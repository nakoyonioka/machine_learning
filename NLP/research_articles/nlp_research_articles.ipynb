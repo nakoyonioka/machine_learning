{
  "nbformat": 4,
  "nbformat_minor": 0,
  "metadata": {
    "colab": {
      "name": "nlp_research_articles.ipynb",
      "provenance": [],
      "collapsed_sections": [],
      "toc_visible": true,
      "authorship_tag": "ABX9TyOgfYLluIWKdeFnQS/VIZvQ",
      "include_colab_link": true
    },
    "kernelspec": {
      "display_name": "Python 3",
      "name": "python3"
    }
  },
  "cells": [
    {
      "cell_type": "markdown",
      "metadata": {
        "id": "view-in-github",
        "colab_type": "text"
      },
      "source": [
        "<a href=\"https://colab.research.google.com/github/nakoyonioka/machine_learning/blob/main/nlp_research_articles.ipynb\" target=\"_parent\"><img src=\"https://colab.research.google.com/assets/colab-badge.svg\" alt=\"Open In Colab\"/></a>"
      ]
    },
    {
      "cell_type": "code",
      "metadata": {
        "id": "3rc2auPaz6p-",
        "outputId": "5963ab8b-9cf4-472c-df2b-e1dfcca79de1",
        "colab": {
          "base_uri": "https://localhost:8080/"
        }
      },
      "source": [
        "from google.colab import drive\n",
        "drive.mount('/content/gdrive')\n",
        "import os\n",
        "os.environ['KAGGLE_CONFIG_DIR'] = \"/content/gdrive/My Drive/kaggle\"\n",
        "# /content/gdrive/My Drive/Kaggle is the path where kaggle.json is present in the Google Drive\n",
        "#changing the working directory\n",
        "%cd /content/gdrive/My Drive/kaggle"
      ],
      "execution_count": 1,
      "outputs": [
        {
          "output_type": "stream",
          "text": [
            "Drive already mounted at /content/gdrive; to attempt to forcibly remount, call drive.mount(\"/content/gdrive\", force_remount=True).\n",
            "/content/gdrive/My Drive/kaggle\n"
          ],
          "name": "stdout"
        }
      ]
    },
    {
      "cell_type": "code",
      "metadata": {
        "id": "W3qEJtbYz8SI",
        "outputId": "eefef6f0-9fdb-409e-985a-1fe26f731c9e",
        "colab": {
          "base_uri": "https://localhost:8080/"
        }
      },
      "source": [
        "%cd /content/gdrive/My Drive/kaggle/research_articles"
      ],
      "execution_count": 2,
      "outputs": [
        {
          "output_type": "stream",
          "text": [
            "/content/gdrive/My Drive/kaggle/research_articles\n"
          ],
          "name": "stdout"
        }
      ]
    },
    {
      "cell_type": "code",
      "metadata": {
        "id": "CtKEjLbxz9Xr",
        "outputId": "2374b7eb-ff3c-4855-b1a6-2e48b81c26f8",
        "colab": {
          "base_uri": "https://localhost:8080/"
        }
      },
      "source": [
        "!pip install --upgrade --force-reinstall --no-deps kaggle"
      ],
      "execution_count": null,
      "outputs": [
        {
          "output_type": "stream",
          "text": [
            "Collecting kaggle\n",
            "\u001b[?25l  Downloading https://files.pythonhosted.org/packages/fe/52/3d13208c0f24c72b886c400e94748076222d5ffa4913fb410af50cb09219/kaggle-1.5.9.tar.gz (58kB)\n",
            "\r\u001b[K     |█████▋                          | 10kB 16.6MB/s eta 0:00:01\r\u001b[K     |███████████▎                    | 20kB 1.7MB/s eta 0:00:01\r\u001b[K     |████████████████▉               | 30kB 2.0MB/s eta 0:00:01\r\u001b[K     |██████████████████████▌         | 40kB 2.4MB/s eta 0:00:01\r\u001b[K     |████████████████████████████▏   | 51kB 1.9MB/s eta 0:00:01\r\u001b[K     |████████████████████████████████| 61kB 1.8MB/s \n",
            "\u001b[?25hBuilding wheels for collected packages: kaggle\n",
            "  Building wheel for kaggle (setup.py) ... \u001b[?25l\u001b[?25hdone\n",
            "  Created wheel for kaggle: filename=kaggle-1.5.9-cp36-none-any.whl size=73265 sha256=3c3bd188701d27b245b34ee98abc3d4247f54852e8bd39bdd3174fadc3585f64\n",
            "  Stored in directory: /root/.cache/pip/wheels/68/6d/9b/7a98271454edcba3b56328cbc78c037286e787d004c8afee71\n",
            "Successfully built kaggle\n",
            "Installing collected packages: kaggle\n",
            "  Found existing installation: kaggle 1.5.9\n",
            "    Uninstalling kaggle-1.5.9:\n",
            "      Successfully uninstalled kaggle-1.5.9\n",
            "Successfully installed kaggle-1.5.9\n"
          ],
          "name": "stdout"
        }
      ]
    },
    {
      "cell_type": "code",
      "metadata": {
        "id": "B9nBMSBM0AU-",
        "outputId": "11003c60-d6b4-4fb0-e963-0eecf252a635",
        "colab": {
          "base_uri": "https://localhost:8080/"
        }
      },
      "source": [
        "!kaggle datasets download -d vetrirah/janatahack-independence-day-2020-ml-hackathon"
      ],
      "execution_count": null,
      "outputs": [
        {
          "output_type": "stream",
          "text": [
            "Downloading janatahack-independence-day-2020-ml-hackathon.zip to /content/gdrive/My Drive/kaggle/research_articles\n",
            " 44% 5.00M/11.4M [00:00<00:00, 40.2MB/s]\n",
            "100% 11.4M/11.4M [00:00<00:00, 73.2MB/s]\n"
          ],
          "name": "stdout"
        }
      ]
    },
    {
      "cell_type": "code",
      "metadata": {
        "id": "WGL52Mcj0Age",
        "outputId": "5100ab2c-541b-4fb5-ad30-124a99ca3557",
        "colab": {
          "base_uri": "https://localhost:8080/"
        }
      },
      "source": [
        "#unzipping the zip files and deleting the zip files\n",
        "!unzip \\*.zip  && rm *.zip"
      ],
      "execution_count": null,
      "outputs": [
        {
          "output_type": "stream",
          "text": [
            "Archive:  janatahack-independence-day-2020-ml-hackathon.zip\n",
            "  inflating: sample_submission.csv   \n",
            "  inflating: test.csv                \n",
            "  inflating: train.csv               \n"
          ],
          "name": "stdout"
        }
      ]
    },
    {
      "cell_type": "code",
      "metadata": {
        "id": "0W3k8bSl0Bl2"
      },
      "source": [
        "import numpy as np\n",
        "import spacy\n",
        "from spacy import displacy\n",
        "import matplotlib.pyplot as plt\n",
        "import warnings\n",
        "import os\n",
        "warnings.filterwarnings('ignore')\n",
        "%matplotlib inline\n",
        "\n",
        "import nltk\n",
        "from nltk.corpus import words as english_words, stopwords\n",
        "import re\n",
        "\n",
        "import pandas as pd\n",
        "\n",
        "import wordcloud as Wordcloud\n",
        "from collections import Counter\n",
        "import seaborn as sns\n",
        "\n",
        "import itertools\n",
        "\n",
        "import spacy\n",
        "\n",
        "from spacy.lang.en import English\n",
        "from spacy.lang.en.stop_words import STOP_WORDS"
      ],
      "execution_count": 3,
      "outputs": []
    },
    {
      "cell_type": "code",
      "metadata": {
        "id": "b9H5Xtom0QK0"
      },
      "source": [
        "from sklearn.feature_extraction.text import TfidfVectorizer\n",
        "from sklearn.feature_selection import chi2\n",
        "from IPython.display import display\n",
        "from sklearn.model_selection import train_test_split\n",
        "from sklearn.feature_extraction.text import TfidfTransformer\n",
        "from sklearn.naive_bayes import MultinomialNB\n",
        "from sklearn.linear_model import LogisticRegression\n",
        "from sklearn.ensemble import RandomForestClassifier\n",
        "from sklearn.svm import LinearSVC\n",
        "from sklearn.model_selection import cross_val_score\n",
        "from sklearn.metrics import confusion_matrix\n",
        "from sklearn import metrics\n",
        "\n",
        "from sklearn.decomposition import PCA, TruncatedSVD\n",
        "from sklearn.metrics import classification_report,confusion_matrix\n",
        "\n",
        "from sklearn.svm import SVC \n",
        "from sklearn.model_selection import GridSearchCV"
      ],
      "execution_count": 4,
      "outputs": []
    },
    {
      "cell_type": "code",
      "metadata": {
        "id": "9Zr6URHeInMA"
      },
      "source": [
        "train=pd.read_csv('./train.csv')\n",
        "test=pd.read_csv('./test.csv')"
      ],
      "execution_count": null,
      "outputs": []
    },
    {
      "cell_type": "code",
      "metadata": {
        "id": "9bE0N605bxVT",
        "outputId": "3b76fcf6-bfca-4a6c-8614-d81171087752",
        "colab": {
          "base_uri": "https://localhost:8080/"
        }
      },
      "source": [
        "train.info()"
      ],
      "execution_count": null,
      "outputs": [
        {
          "output_type": "stream",
          "text": [
            "<class 'pandas.core.frame.DataFrame'>\n",
            "RangeIndex: 20972 entries, 0 to 20971\n",
            "Data columns (total 9 columns):\n",
            " #   Column                Non-Null Count  Dtype \n",
            "---  ------                --------------  ----- \n",
            " 0   ID                    20972 non-null  int64 \n",
            " 1   TITLE                 20972 non-null  object\n",
            " 2   ABSTRACT              20972 non-null  object\n",
            " 3   Computer Science      20972 non-null  int64 \n",
            " 4   Physics               20972 non-null  int64 \n",
            " 5   Mathematics           20972 non-null  int64 \n",
            " 6   Statistics            20972 non-null  int64 \n",
            " 7   Quantitative Biology  20972 non-null  int64 \n",
            " 8   Quantitative Finance  20972 non-null  int64 \n",
            "dtypes: int64(7), object(2)\n",
            "memory usage: 1.4+ MB\n"
          ],
          "name": "stdout"
        }
      ]
    },
    {
      "cell_type": "code",
      "metadata": {
        "id": "bd40HZG-KnNz"
      },
      "source": [
        "train=train.dropna()"
      ],
      "execution_count": null,
      "outputs": []
    },
    {
      "cell_type": "code",
      "metadata": {
        "id": "hp96kHjuKpPC"
      },
      "source": [
        "train=train.reset_index(drop=True)"
      ],
      "execution_count": null,
      "outputs": []
    },
    {
      "cell_type": "code",
      "metadata": {
        "id": "l_Spy9Mrb-Y0"
      },
      "source": [
        "train_id=train.pop('ID')"
      ],
      "execution_count": null,
      "outputs": []
    },
    {
      "cell_type": "code",
      "metadata": {
        "id": "vvUEW9nhcDDC",
        "outputId": "2db5d7e6-e5f2-4733-d2fa-02c9b58c39d8",
        "colab": {
          "base_uri": "https://localhost:8080/",
          "height": 419
        }
      },
      "source": [
        "train"
      ],
      "execution_count": null,
      "outputs": [
        {
          "output_type": "execute_result",
          "data": {
            "text/html": [
              "<div>\n",
              "<style scoped>\n",
              "    .dataframe tbody tr th:only-of-type {\n",
              "        vertical-align: middle;\n",
              "    }\n",
              "\n",
              "    .dataframe tbody tr th {\n",
              "        vertical-align: top;\n",
              "    }\n",
              "\n",
              "    .dataframe thead th {\n",
              "        text-align: right;\n",
              "    }\n",
              "</style>\n",
              "<table border=\"1\" class=\"dataframe\">\n",
              "  <thead>\n",
              "    <tr style=\"text-align: right;\">\n",
              "      <th></th>\n",
              "      <th>TITLE</th>\n",
              "      <th>ABSTRACT</th>\n",
              "      <th>Computer Science</th>\n",
              "      <th>Physics</th>\n",
              "      <th>Mathematics</th>\n",
              "      <th>Statistics</th>\n",
              "      <th>Quantitative Biology</th>\n",
              "      <th>Quantitative Finance</th>\n",
              "    </tr>\n",
              "  </thead>\n",
              "  <tbody>\n",
              "    <tr>\n",
              "      <th>0</th>\n",
              "      <td>Reconstructing Subject-Specific Effect Maps</td>\n",
              "      <td>Predictive models allow subject-specific inf...</td>\n",
              "      <td>1</td>\n",
              "      <td>0</td>\n",
              "      <td>0</td>\n",
              "      <td>0</td>\n",
              "      <td>0</td>\n",
              "      <td>0</td>\n",
              "    </tr>\n",
              "    <tr>\n",
              "      <th>1</th>\n",
              "      <td>Rotation Invariance Neural Network</td>\n",
              "      <td>Rotation invariance and translation invarian...</td>\n",
              "      <td>1</td>\n",
              "      <td>0</td>\n",
              "      <td>0</td>\n",
              "      <td>0</td>\n",
              "      <td>0</td>\n",
              "      <td>0</td>\n",
              "    </tr>\n",
              "    <tr>\n",
              "      <th>2</th>\n",
              "      <td>Spherical polyharmonics and Poisson kernels fo...</td>\n",
              "      <td>We introduce and develop the notion of spher...</td>\n",
              "      <td>0</td>\n",
              "      <td>0</td>\n",
              "      <td>1</td>\n",
              "      <td>0</td>\n",
              "      <td>0</td>\n",
              "      <td>0</td>\n",
              "    </tr>\n",
              "    <tr>\n",
              "      <th>3</th>\n",
              "      <td>A finite element approximation for the stochas...</td>\n",
              "      <td>The stochastic Landau--Lifshitz--Gilbert (LL...</td>\n",
              "      <td>0</td>\n",
              "      <td>0</td>\n",
              "      <td>1</td>\n",
              "      <td>0</td>\n",
              "      <td>0</td>\n",
              "      <td>0</td>\n",
              "    </tr>\n",
              "    <tr>\n",
              "      <th>4</th>\n",
              "      <td>Comparative study of Discrete Wavelet Transfor...</td>\n",
              "      <td>Fourier-transform infra-red (FTIR) spectra o...</td>\n",
              "      <td>1</td>\n",
              "      <td>0</td>\n",
              "      <td>0</td>\n",
              "      <td>1</td>\n",
              "      <td>0</td>\n",
              "      <td>0</td>\n",
              "    </tr>\n",
              "    <tr>\n",
              "      <th>...</th>\n",
              "      <td>...</td>\n",
              "      <td>...</td>\n",
              "      <td>...</td>\n",
              "      <td>...</td>\n",
              "      <td>...</td>\n",
              "      <td>...</td>\n",
              "      <td>...</td>\n",
              "      <td>...</td>\n",
              "    </tr>\n",
              "    <tr>\n",
              "      <th>20967</th>\n",
              "      <td>Contemporary machine learning: a guide for pra...</td>\n",
              "      <td>Machine learning is finding increasingly bro...</td>\n",
              "      <td>1</td>\n",
              "      <td>1</td>\n",
              "      <td>0</td>\n",
              "      <td>0</td>\n",
              "      <td>0</td>\n",
              "      <td>0</td>\n",
              "    </tr>\n",
              "    <tr>\n",
              "      <th>20968</th>\n",
              "      <td>Uniform diamond coatings on WC-Co hard alloy c...</td>\n",
              "      <td>Polycrystalline diamond coatings have been g...</td>\n",
              "      <td>0</td>\n",
              "      <td>1</td>\n",
              "      <td>0</td>\n",
              "      <td>0</td>\n",
              "      <td>0</td>\n",
              "      <td>0</td>\n",
              "    </tr>\n",
              "    <tr>\n",
              "      <th>20969</th>\n",
              "      <td>Analysing Soccer Games with Clustering and Con...</td>\n",
              "      <td>We present a new approach for identifying si...</td>\n",
              "      <td>1</td>\n",
              "      <td>0</td>\n",
              "      <td>0</td>\n",
              "      <td>0</td>\n",
              "      <td>0</td>\n",
              "      <td>0</td>\n",
              "    </tr>\n",
              "    <tr>\n",
              "      <th>20970</th>\n",
              "      <td>On the Efficient Simulation of the Left-Tail o...</td>\n",
              "      <td>The sum of Log-normal variates is encountere...</td>\n",
              "      <td>0</td>\n",
              "      <td>0</td>\n",
              "      <td>1</td>\n",
              "      <td>1</td>\n",
              "      <td>0</td>\n",
              "      <td>0</td>\n",
              "    </tr>\n",
              "    <tr>\n",
              "      <th>20971</th>\n",
              "      <td>Why optional stopping is a problem for Bayesians</td>\n",
              "      <td>Recently, optional stopping has been a subje...</td>\n",
              "      <td>0</td>\n",
              "      <td>0</td>\n",
              "      <td>1</td>\n",
              "      <td>1</td>\n",
              "      <td>0</td>\n",
              "      <td>0</td>\n",
              "    </tr>\n",
              "  </tbody>\n",
              "</table>\n",
              "<p>20972 rows × 8 columns</p>\n",
              "</div>"
            ],
            "text/plain": [
              "                                                   TITLE  ... Quantitative Finance\n",
              "0            Reconstructing Subject-Specific Effect Maps  ...                    0\n",
              "1                     Rotation Invariance Neural Network  ...                    0\n",
              "2      Spherical polyharmonics and Poisson kernels fo...  ...                    0\n",
              "3      A finite element approximation for the stochas...  ...                    0\n",
              "4      Comparative study of Discrete Wavelet Transfor...  ...                    0\n",
              "...                                                  ...  ...                  ...\n",
              "20967  Contemporary machine learning: a guide for pra...  ...                    0\n",
              "20968  Uniform diamond coatings on WC-Co hard alloy c...  ...                    0\n",
              "20969  Analysing Soccer Games with Clustering and Con...  ...                    0\n",
              "20970  On the Efficient Simulation of the Left-Tail o...  ...                    0\n",
              "20971   Why optional stopping is a problem for Bayesians  ...                    0\n",
              "\n",
              "[20972 rows x 8 columns]"
            ]
          },
          "metadata": {
            "tags": []
          },
          "execution_count": 17
        }
      ]
    },
    {
      "cell_type": "code",
      "metadata": {
        "id": "6CifUyO0dVL4"
      },
      "source": [
        "train.TITLE=train.TITLE+': '+train.ABSTRACT"
      ],
      "execution_count": null,
      "outputs": []
    },
    {
      "cell_type": "code",
      "metadata": {
        "id": "LZZKAO3HKx98"
      },
      "source": [
        "def bar_plot_distribution(topic):\n",
        "  temp=train[topic].value_counts()\n",
        "  sns.set_style(\"whitegrid\")\n",
        "  temp= temp.to_frame().reset_index().rename(columns={'index':topic,topic:'count'})\n",
        "  plt.figure(figsize = (20,10)) \n",
        "  sns_bar=sns.barplot(x=topic,y=\"count\", data = temp)\n",
        "  sns_bar.set_xticklabels(labels=temp[topic], rotation=45)\n",
        "  plt.title(f'Number of {topic} articles')\n",
        "  sns.histplot(data=temp[topic].index)\n",
        "  plt.show()"
      ],
      "execution_count": null,
      "outputs": []
    },
    {
      "cell_type": "code",
      "metadata": {
        "id": "MY9JCLhFc1-L",
        "outputId": "9e774f9b-e688-40c6-f165-5fe03b6f334d",
        "colab": {
          "base_uri": "https://localhost:8080/",
          "height": 1000
        }
      },
      "source": [
        "bar_plot_distribution(\"Computer Science\")\n",
        "bar_plot_distribution(\"Physics\")\n",
        "bar_plot_distribution(\"Mathematics\")\n",
        "bar_plot_distribution(\"Statistics\")\n",
        "bar_plot_distribution(\"Quantitative Biology\")\n",
        "bar_plot_distribution(\"Quantitative Finance\")"
      ],
      "execution_count": null,
      "outputs": [
        {
          "output_type": "display_data",
          "data": {
            "image/png": "[encoded data removed]",
            "text/plain": [
              "<Figure size 1440x720 with 1 Axes>"
            ]
          },
          "metadata": {
            "tags": []
          }
        },
        {
          "output_type": "display_data",
          "data": {
            "image/png": "[encoded data removed]",
            "text/plain": [
              "<Figure size 1440x720 with 1 Axes>"
            ]
          },
          "metadata": {
            "tags": []
          }
        },
        {
          "output_type": "display_data",
          "data": {
            "image/png": "[encoded data removed]",
            "text/plain": [
              "<Figure size 1440x720 with 1 Axes>"
            ]
          },
          "metadata": {
            "tags": []
          }
        },
        {
          "output_type": "display_data",
          "data": {
            "image/png": "[encoded data removed]",
            "text/plain": [
              "<Figure size 1440x720 with 1 Axes>"
            ]
          },
          "metadata": {
            "tags": []
          }
        },
        {
          "output_type": "display_data",
          "data": {
            "image/png": "[encoded data removed]",
            "text/plain": [
              "<Figure size 1440x720 with 1 Axes>"
            ]
          },
          "metadata": {
            "tags": []
          }
        },
        {
          "output_type": "display_data",
          "data": {
            "image/png": "[encoded data removed]",
            "text/plain": [
              "<Figure size 1440x720 with 1 Axes>"
            ]
          },
          "metadata": {
            "tags": []
          }
        }
      ]
    },
    {
      "cell_type": "code",
      "metadata": {
        "id": "nWZ4-x_6Mf_N"
      },
      "source": [
        "train_abstract=train.pop('ABSTRACT')"
      ],
      "execution_count": null,
      "outputs": []
    },
    {
      "cell_type": "code",
      "metadata": {
        "id": "NAs9sG09_48S"
      },
      "source": [
        "train['Computer Science']=train['Computer Science'].astype('str')\n",
        "train['Physics']=train['Physics'].astype('str')\n",
        "train['Mathematics']=train['Mathematics'].astype('str')\n",
        "train['Statistics']=train['Statistics'].astype('str')\n",
        "train['Quantitative Biology']=train['Quantitative Biology'].astype('str')\n",
        "train['Quantitative Finance']=train['Quantitative Finance'].astype('str')"
      ],
      "execution_count": null,
      "outputs": []
    },
    {
      "cell_type": "code",
      "metadata": {
        "id": "j709I0kHBGE9"
      },
      "source": [
        "train['label'] = train[['Computer Science', 'Physics', 'Mathematics', 'Statistics', 'Quantitative Biology', 'Quantitative Finance']].agg(''.join, axis=1)"
      ],
      "execution_count": null,
      "outputs": []
    },
    {
      "cell_type": "code",
      "metadata": {
        "id": "4herFqkvBbao"
      },
      "source": [
        "train.label=train.label.astype('str')"
      ],
      "execution_count": null,
      "outputs": []
    },
    {
      "cell_type": "code",
      "metadata": {
        "id": "mepsfqIsBr_H"
      },
      "source": [
        "def to_binary(x):\n",
        "  return int(x, 2)\n",
        "\n",
        "train.label=train.label.apply(lambda x:to_binary(x))"
      ],
      "execution_count": null,
      "outputs": []
    },
    {
      "cell_type": "code",
      "metadata": {
        "id": "9vLI0yRNB-Wv",
        "outputId": "27cee198-23d6-4c03-8e8e-cae777647e5e",
        "colab": {
          "base_uri": "https://localhost:8080/",
          "height": 419
        }
      },
      "source": [
        "train"
      ],
      "execution_count": null,
      "outputs": [
        {
          "output_type": "execute_result",
          "data": {
            "text/html": [
              "<div>\n",
              "<style scoped>\n",
              "    .dataframe tbody tr th:only-of-type {\n",
              "        vertical-align: middle;\n",
              "    }\n",
              "\n",
              "    .dataframe tbody tr th {\n",
              "        vertical-align: top;\n",
              "    }\n",
              "\n",
              "    .dataframe thead th {\n",
              "        text-align: right;\n",
              "    }\n",
              "</style>\n",
              "<table border=\"1\" class=\"dataframe\">\n",
              "  <thead>\n",
              "    <tr style=\"text-align: right;\">\n",
              "      <th></th>\n",
              "      <th>TITLE</th>\n",
              "      <th>Computer Science</th>\n",
              "      <th>Physics</th>\n",
              "      <th>Mathematics</th>\n",
              "      <th>Statistics</th>\n",
              "      <th>Quantitative Biology</th>\n",
              "      <th>Quantitative Finance</th>\n",
              "      <th>label</th>\n",
              "    </tr>\n",
              "  </thead>\n",
              "  <tbody>\n",
              "    <tr>\n",
              "      <th>0</th>\n",
              "      <td>Reconstructing Subject-Specific Effect Maps:  ...</td>\n",
              "      <td>1</td>\n",
              "      <td>0</td>\n",
              "      <td>0</td>\n",
              "      <td>0</td>\n",
              "      <td>0</td>\n",
              "      <td>0</td>\n",
              "      <td>32</td>\n",
              "    </tr>\n",
              "    <tr>\n",
              "      <th>1</th>\n",
              "      <td>Rotation Invariance Neural Network:   Rotation...</td>\n",
              "      <td>1</td>\n",
              "      <td>0</td>\n",
              "      <td>0</td>\n",
              "      <td>0</td>\n",
              "      <td>0</td>\n",
              "      <td>0</td>\n",
              "      <td>32</td>\n",
              "    </tr>\n",
              "    <tr>\n",
              "      <th>2</th>\n",
              "      <td>Spherical polyharmonics and Poisson kernels fo...</td>\n",
              "      <td>0</td>\n",
              "      <td>0</td>\n",
              "      <td>1</td>\n",
              "      <td>0</td>\n",
              "      <td>0</td>\n",
              "      <td>0</td>\n",
              "      <td>8</td>\n",
              "    </tr>\n",
              "    <tr>\n",
              "      <th>3</th>\n",
              "      <td>A finite element approximation for the stochas...</td>\n",
              "      <td>0</td>\n",
              "      <td>0</td>\n",
              "      <td>1</td>\n",
              "      <td>0</td>\n",
              "      <td>0</td>\n",
              "      <td>0</td>\n",
              "      <td>8</td>\n",
              "    </tr>\n",
              "    <tr>\n",
              "      <th>4</th>\n",
              "      <td>Comparative study of Discrete Wavelet Transfor...</td>\n",
              "      <td>1</td>\n",
              "      <td>0</td>\n",
              "      <td>0</td>\n",
              "      <td>1</td>\n",
              "      <td>0</td>\n",
              "      <td>0</td>\n",
              "      <td>36</td>\n",
              "    </tr>\n",
              "    <tr>\n",
              "      <th>...</th>\n",
              "      <td>...</td>\n",
              "      <td>...</td>\n",
              "      <td>...</td>\n",
              "      <td>...</td>\n",
              "      <td>...</td>\n",
              "      <td>...</td>\n",
              "      <td>...</td>\n",
              "      <td>...</td>\n",
              "    </tr>\n",
              "    <tr>\n",
              "      <th>20967</th>\n",
              "      <td>Contemporary machine learning: a guide for pra...</td>\n",
              "      <td>1</td>\n",
              "      <td>1</td>\n",
              "      <td>0</td>\n",
              "      <td>0</td>\n",
              "      <td>0</td>\n",
              "      <td>0</td>\n",
              "      <td>48</td>\n",
              "    </tr>\n",
              "    <tr>\n",
              "      <th>20968</th>\n",
              "      <td>Uniform diamond coatings on WC-Co hard alloy c...</td>\n",
              "      <td>0</td>\n",
              "      <td>1</td>\n",
              "      <td>0</td>\n",
              "      <td>0</td>\n",
              "      <td>0</td>\n",
              "      <td>0</td>\n",
              "      <td>16</td>\n",
              "    </tr>\n",
              "    <tr>\n",
              "      <th>20969</th>\n",
              "      <td>Analysing Soccer Games with Clustering and Con...</td>\n",
              "      <td>1</td>\n",
              "      <td>0</td>\n",
              "      <td>0</td>\n",
              "      <td>0</td>\n",
              "      <td>0</td>\n",
              "      <td>0</td>\n",
              "      <td>32</td>\n",
              "    </tr>\n",
              "    <tr>\n",
              "      <th>20970</th>\n",
              "      <td>On the Efficient Simulation of the Left-Tail o...</td>\n",
              "      <td>0</td>\n",
              "      <td>0</td>\n",
              "      <td>1</td>\n",
              "      <td>1</td>\n",
              "      <td>0</td>\n",
              "      <td>0</td>\n",
              "      <td>12</td>\n",
              "    </tr>\n",
              "    <tr>\n",
              "      <th>20971</th>\n",
              "      <td>Why optional stopping is a problem for Bayesia...</td>\n",
              "      <td>0</td>\n",
              "      <td>0</td>\n",
              "      <td>1</td>\n",
              "      <td>1</td>\n",
              "      <td>0</td>\n",
              "      <td>0</td>\n",
              "      <td>12</td>\n",
              "    </tr>\n",
              "  </tbody>\n",
              "</table>\n",
              "<p>20972 rows × 8 columns</p>\n",
              "</div>"
            ],
            "text/plain": [
              "                                                   TITLE  ... label\n",
              "0      Reconstructing Subject-Specific Effect Maps:  ...  ...    32\n",
              "1      Rotation Invariance Neural Network:   Rotation...  ...    32\n",
              "2      Spherical polyharmonics and Poisson kernels fo...  ...     8\n",
              "3      A finite element approximation for the stochas...  ...     8\n",
              "4      Comparative study of Discrete Wavelet Transfor...  ...    36\n",
              "...                                                  ...  ...   ...\n",
              "20967  Contemporary machine learning: a guide for pra...  ...    48\n",
              "20968  Uniform diamond coatings on WC-Co hard alloy c...  ...    16\n",
              "20969  Analysing Soccer Games with Clustering and Con...  ...    32\n",
              "20970  On the Efficient Simulation of the Left-Tail o...  ...    12\n",
              "20971  Why optional stopping is a problem for Bayesia...  ...    12\n",
              "\n",
              "[20972 rows x 8 columns]"
            ]
          },
          "metadata": {
            "tags": []
          },
          "execution_count": 18
        }
      ]
    },
    {
      "cell_type": "markdown",
      "metadata": {
        "id": "HbexcwRLcvmm"
      },
      "source": [
        "#Preprocess data"
      ]
    },
    {
      "cell_type": "code",
      "metadata": {
        "id": "Rry21lGuc_6u"
      },
      "source": [
        "train['TITLE']=train['TITLE'].str.replace('\\n',' ')"
      ],
      "execution_count": null,
      "outputs": []
    },
    {
      "cell_type": "code",
      "metadata": {
        "id": "gwR0ZVOVe3kF"
      },
      "source": [
        "#lower case\n",
        "def lower(text):\n",
        "    low_text= text.lower()\n",
        "    return low_text\n",
        "train['text']=train['TITLE'].apply(lambda x:lower(x))\n",
        "\n",
        "#Remove extra white space left while removing stuff\n",
        "def remove_space(text):\n",
        "    space_remove = re.sub(r\"\\s+\",\" \",text).strip()\n",
        "    return space_remove\n",
        "train['text']=train['text'].apply(lambda x:remove_space(x))\n"
      ],
      "execution_count": null,
      "outputs": []
    },
    {
      "cell_type": "code",
      "metadata": {
        "id": "ocEdzKwThuxv"
      },
      "source": [
        "nlp=spacy.load('en')\n",
        "\n",
        "def remove_stop_punct():\n",
        "  tokens_all=[]\n",
        "  for text in train['text']:\n",
        "    my_doc = nlp(text)\n",
        "    # Create list of word tokens\n",
        "    spacy_tokens = [token.lemma_ for token in my_doc if token.is_stop != True and token.is_punct != True and token.is_alpha ==True]\n",
        "    tokens_all.append(spacy_tokens)\n",
        "  train['text']=tokens_all\n",
        "\n",
        "remove_stop_punct()\n",
        "train['text']=train['text'].str.join(',')"
      ],
      "execution_count": null,
      "outputs": []
    },
    {
      "cell_type": "code",
      "metadata": {
        "id": "ariBaIVVcreU"
      },
      "source": [
        "train['text']=train['text'].str.replace(',', ' ')"
      ],
      "execution_count": null,
      "outputs": []
    },
    {
      "cell_type": "code",
      "metadata": {
        "id": "U2b21wOLm37e"
      },
      "source": [
        "train.to_csv('./token_train.csv', index=False)"
      ],
      "execution_count": null,
      "outputs": []
    },
    {
      "cell_type": "code",
      "metadata": {
        "id": "BslSs27EdGiB"
      },
      "source": [
        "train=pd.read_csv('./token_train.csv')"
      ],
      "execution_count": 5,
      "outputs": []
    },
    {
      "cell_type": "code",
      "metadata": {
        "id": "4DIFrCIzkt1u",
        "outputId": "f8f887eb-c786-4f38-afd5-398e95b7da88",
        "colab": {
          "base_uri": "https://localhost:8080/",
          "height": 603
        }
      },
      "source": [
        "train"
      ],
      "execution_count": 6,
      "outputs": [
        {
          "output_type": "execute_result",
          "data": {
            "text/html": [
              "<div>\n",
              "<style scoped>\n",
              "    .dataframe tbody tr th:only-of-type {\n",
              "        vertical-align: middle;\n",
              "    }\n",
              "\n",
              "    .dataframe tbody tr th {\n",
              "        vertical-align: top;\n",
              "    }\n",
              "\n",
              "    .dataframe thead th {\n",
              "        text-align: right;\n",
              "    }\n",
              "</style>\n",
              "<table border=\"1\" class=\"dataframe\">\n",
              "  <thead>\n",
              "    <tr style=\"text-align: right;\">\n",
              "      <th></th>\n",
              "      <th>TITLE</th>\n",
              "      <th>Computer Science</th>\n",
              "      <th>Physics</th>\n",
              "      <th>Mathematics</th>\n",
              "      <th>Statistics</th>\n",
              "      <th>Quantitative Biology</th>\n",
              "      <th>Quantitative Finance</th>\n",
              "      <th>label</th>\n",
              "      <th>text</th>\n",
              "    </tr>\n",
              "  </thead>\n",
              "  <tbody>\n",
              "    <tr>\n",
              "      <th>0</th>\n",
              "      <td>Reconstructing Subject-Specific Effect Maps:  ...</td>\n",
              "      <td>1</td>\n",
              "      <td>0</td>\n",
              "      <td>0</td>\n",
              "      <td>0</td>\n",
              "      <td>0</td>\n",
              "      <td>0</td>\n",
              "      <td>32</td>\n",
              "      <td>reconstruct subject specific effect map predic...</td>\n",
              "    </tr>\n",
              "    <tr>\n",
              "      <th>1</th>\n",
              "      <td>Rotation Invariance Neural Network:   Rotation...</td>\n",
              "      <td>1</td>\n",
              "      <td>0</td>\n",
              "      <td>0</td>\n",
              "      <td>0</td>\n",
              "      <td>0</td>\n",
              "      <td>0</td>\n",
              "      <td>32</td>\n",
              "      <td>rotation invariance neural network rotation in...</td>\n",
              "    </tr>\n",
              "    <tr>\n",
              "      <th>2</th>\n",
              "      <td>Spherical polyharmonics and Poisson kernels fo...</td>\n",
              "      <td>0</td>\n",
              "      <td>0</td>\n",
              "      <td>1</td>\n",
              "      <td>0</td>\n",
              "      <td>0</td>\n",
              "      <td>0</td>\n",
              "      <td>8</td>\n",
              "      <td>spherical polyharmonic poisson kernel polyharm...</td>\n",
              "    </tr>\n",
              "    <tr>\n",
              "      <th>3</th>\n",
              "      <td>A finite element approximation for the stochas...</td>\n",
              "      <td>0</td>\n",
              "      <td>0</td>\n",
              "      <td>1</td>\n",
              "      <td>0</td>\n",
              "      <td>0</td>\n",
              "      <td>0</td>\n",
              "      <td>8</td>\n",
              "      <td>finite element approximation stochastic maxwel...</td>\n",
              "    </tr>\n",
              "    <tr>\n",
              "      <th>4</th>\n",
              "      <td>Comparative study of Discrete Wavelet Transfor...</td>\n",
              "      <td>1</td>\n",
              "      <td>0</td>\n",
              "      <td>0</td>\n",
              "      <td>1</td>\n",
              "      <td>0</td>\n",
              "      <td>0</td>\n",
              "      <td>36</td>\n",
              "      <td>comparative study discrete wavelet transform w...</td>\n",
              "    </tr>\n",
              "    <tr>\n",
              "      <th>...</th>\n",
              "      <td>...</td>\n",
              "      <td>...</td>\n",
              "      <td>...</td>\n",
              "      <td>...</td>\n",
              "      <td>...</td>\n",
              "      <td>...</td>\n",
              "      <td>...</td>\n",
              "      <td>...</td>\n",
              "      <td>...</td>\n",
              "    </tr>\n",
              "    <tr>\n",
              "      <th>20967</th>\n",
              "      <td>Contemporary machine learning: a guide for pra...</td>\n",
              "      <td>1</td>\n",
              "      <td>1</td>\n",
              "      <td>0</td>\n",
              "      <td>0</td>\n",
              "      <td>0</td>\n",
              "      <td>0</td>\n",
              "      <td>48</td>\n",
              "      <td>contemporary machine learning guide practition...</td>\n",
              "    </tr>\n",
              "    <tr>\n",
              "      <th>20968</th>\n",
              "      <td>Uniform diamond coatings on WC-Co hard alloy c...</td>\n",
              "      <td>0</td>\n",
              "      <td>1</td>\n",
              "      <td>0</td>\n",
              "      <td>0</td>\n",
              "      <td>0</td>\n",
              "      <td>0</td>\n",
              "      <td>16</td>\n",
              "      <td>uniform diamond coating wc co hard alloy cut i...</td>\n",
              "    </tr>\n",
              "    <tr>\n",
              "      <th>20969</th>\n",
              "      <td>Analysing Soccer Games with Clustering and Con...</td>\n",
              "      <td>1</td>\n",
              "      <td>0</td>\n",
              "      <td>0</td>\n",
              "      <td>0</td>\n",
              "      <td>0</td>\n",
              "      <td>0</td>\n",
              "      <td>32</td>\n",
              "      <td>analyse soccer game clustering conceptor prese...</td>\n",
              "    </tr>\n",
              "    <tr>\n",
              "      <th>20970</th>\n",
              "      <td>On the Efficient Simulation of the Left-Tail o...</td>\n",
              "      <td>0</td>\n",
              "      <td>0</td>\n",
              "      <td>1</td>\n",
              "      <td>1</td>\n",
              "      <td>0</td>\n",
              "      <td>0</td>\n",
              "      <td>12</td>\n",
              "      <td>efficient simulation left tail sum correlate l...</td>\n",
              "    </tr>\n",
              "    <tr>\n",
              "      <th>20971</th>\n",
              "      <td>Why optional stopping is a problem for Bayesia...</td>\n",
              "      <td>0</td>\n",
              "      <td>0</td>\n",
              "      <td>1</td>\n",
              "      <td>1</td>\n",
              "      <td>0</td>\n",
              "      <td>0</td>\n",
              "      <td>12</td>\n",
              "      <td>optional stopping problem bayesian recently op...</td>\n",
              "    </tr>\n",
              "  </tbody>\n",
              "</table>\n",
              "<p>20972 rows × 9 columns</p>\n",
              "</div>"
            ],
            "text/plain": [
              "                                                   TITLE  ...                                               text\n",
              "0      Reconstructing Subject-Specific Effect Maps:  ...  ...  reconstruct subject specific effect map predic...\n",
              "1      Rotation Invariance Neural Network:   Rotation...  ...  rotation invariance neural network rotation in...\n",
              "2      Spherical polyharmonics and Poisson kernels fo...  ...  spherical polyharmonic poisson kernel polyharm...\n",
              "3      A finite element approximation for the stochas...  ...  finite element approximation stochastic maxwel...\n",
              "4      Comparative study of Discrete Wavelet Transfor...  ...  comparative study discrete wavelet transform w...\n",
              "...                                                  ...  ...                                                ...\n",
              "20967  Contemporary machine learning: a guide for pra...  ...  contemporary machine learning guide practition...\n",
              "20968  Uniform diamond coatings on WC-Co hard alloy c...  ...  uniform diamond coating wc co hard alloy cut i...\n",
              "20969  Analysing Soccer Games with Clustering and Con...  ...  analyse soccer game clustering conceptor prese...\n",
              "20970  On the Efficient Simulation of the Left-Tail o...  ...  efficient simulation left tail sum correlate l...\n",
              "20971  Why optional stopping is a problem for Bayesia...  ...  optional stopping problem bayesian recently op...\n",
              "\n",
              "[20972 rows x 9 columns]"
            ]
          },
          "metadata": {
            "tags": []
          },
          "execution_count": 6
        }
      ]
    },
    {
      "cell_type": "markdown",
      "metadata": {
        "id": "voXzUNYHsU2w"
      },
      "source": [
        "#Example Text Classification"
      ]
    },
    {
      "cell_type": "code",
      "metadata": {
        "id": "cZ6gs2VfsWu-"
      },
      "source": [
        "from sklearn.feature_extraction.text import TfidfVectorizer\n",
        "from sklearn.feature_selection import chi2\n",
        "from IPython.display import display\n",
        "from sklearn.model_selection import train_test_split\n",
        "from sklearn.feature_extraction.text import TfidfTransformer\n",
        "from sklearn.naive_bayes import MultinomialNB\n",
        "from sklearn.linear_model import LogisticRegression\n",
        "from sklearn.ensemble import RandomForestClassifier\n",
        "from sklearn.svm import LinearSVC\n",
        "from sklearn.model_selection import cross_val_score\n",
        "from sklearn.metrics import confusion_matrix\n",
        "from sklearn import metrics\n",
        "\n",
        "from sklearn.decomposition import PCA, TruncatedSVD\n",
        "from sklearn.metrics import classification_report,confusion_matrix"
      ],
      "execution_count": 7,
      "outputs": []
    },
    {
      "cell_type": "code",
      "metadata": {
        "id": "Y9bUD1c8oTDU",
        "outputId": "f312fecd-1e39-469c-caaf-bbfb5979c732",
        "colab": {
          "base_uri": "https://localhost:8080/"
        }
      },
      "source": [
        "!python -m spacy download en_core_web_md"
      ],
      "execution_count": null,
      "outputs": [
        {
          "output_type": "stream",
          "text": [
            "Collecting en_core_web_md==2.2.5\n",
            "\u001b[?25l  Downloading https://github.com/explosion/spacy-models/releases/download/en_core_web_md-2.2.5/en_core_web_md-2.2.5.tar.gz (96.4MB)\n",
            "\u001b[K     |████████████████████████████████| 96.4MB 1.2MB/s \n",
            "\u001b[?25hRequirement already satisfied: spacy>=2.2.2 in /usr/local/lib/python3.6/dist-packages (from en_core_web_md==2.2.5) (2.2.4)\n",
            "Requirement already satisfied: srsly<1.1.0,>=1.0.2 in /usr/local/lib/python3.6/dist-packages (from spacy>=2.2.2->en_core_web_md==2.2.5) (1.0.2)\n",
            "Requirement already satisfied: plac<1.2.0,>=0.9.6 in /usr/local/lib/python3.6/dist-packages (from spacy>=2.2.2->en_core_web_md==2.2.5) (1.1.3)\n",
            "Requirement already satisfied: numpy>=1.15.0 in /usr/local/lib/python3.6/dist-packages (from spacy>=2.2.2->en_core_web_md==2.2.5) (1.18.5)\n",
            "Requirement already satisfied: cymem<2.1.0,>=2.0.2 in /usr/local/lib/python3.6/dist-packages (from spacy>=2.2.2->en_core_web_md==2.2.5) (2.0.4)\n",
            "Requirement already satisfied: preshed<3.1.0,>=3.0.2 in /usr/local/lib/python3.6/dist-packages (from spacy>=2.2.2->en_core_web_md==2.2.5) (3.0.2)\n",
            "Requirement already satisfied: blis<0.5.0,>=0.4.0 in /usr/local/lib/python3.6/dist-packages (from spacy>=2.2.2->en_core_web_md==2.2.5) (0.4.1)\n",
            "Requirement already satisfied: requests<3.0.0,>=2.13.0 in /usr/local/lib/python3.6/dist-packages (from spacy>=2.2.2->en_core_web_md==2.2.5) (2.23.0)\n",
            "Requirement already satisfied: wasabi<1.1.0,>=0.4.0 in /usr/local/lib/python3.6/dist-packages (from spacy>=2.2.2->en_core_web_md==2.2.5) (0.8.0)\n",
            "Requirement already satisfied: thinc==7.4.0 in /usr/local/lib/python3.6/dist-packages (from spacy>=2.2.2->en_core_web_md==2.2.5) (7.4.0)\n",
            "Requirement already satisfied: murmurhash<1.1.0,>=0.28.0 in /usr/local/lib/python3.6/dist-packages (from spacy>=2.2.2->en_core_web_md==2.2.5) (1.0.3)\n",
            "Requirement already satisfied: catalogue<1.1.0,>=0.0.7 in /usr/local/lib/python3.6/dist-packages (from spacy>=2.2.2->en_core_web_md==2.2.5) (1.0.0)\n",
            "Requirement already satisfied: tqdm<5.0.0,>=4.38.0 in /usr/local/lib/python3.6/dist-packages (from spacy>=2.2.2->en_core_web_md==2.2.5) (4.41.1)\n",
            "Requirement already satisfied: setuptools in /usr/local/lib/python3.6/dist-packages (from spacy>=2.2.2->en_core_web_md==2.2.5) (50.3.2)\n",
            "Requirement already satisfied: certifi>=2017.4.17 in /usr/local/lib/python3.6/dist-packages (from requests<3.0.0,>=2.13.0->spacy>=2.2.2->en_core_web_md==2.2.5) (2020.6.20)\n",
            "Requirement already satisfied: urllib3!=1.25.0,!=1.25.1,<1.26,>=1.21.1 in /usr/local/lib/python3.6/dist-packages (from requests<3.0.0,>=2.13.0->spacy>=2.2.2->en_core_web_md==2.2.5) (1.24.3)\n",
            "Requirement already satisfied: chardet<4,>=3.0.2 in /usr/local/lib/python3.6/dist-packages (from requests<3.0.0,>=2.13.0->spacy>=2.2.2->en_core_web_md==2.2.5) (3.0.4)\n",
            "Requirement already satisfied: idna<3,>=2.5 in /usr/local/lib/python3.6/dist-packages (from requests<3.0.0,>=2.13.0->spacy>=2.2.2->en_core_web_md==2.2.5) (2.10)\n",
            "Requirement already satisfied: importlib-metadata>=0.20; python_version < \"3.8\" in /usr/local/lib/python3.6/dist-packages (from catalogue<1.1.0,>=0.0.7->spacy>=2.2.2->en_core_web_md==2.2.5) (2.0.0)\n",
            "Requirement already satisfied: zipp>=0.5 in /usr/local/lib/python3.6/dist-packages (from importlib-metadata>=0.20; python_version < \"3.8\"->catalogue<1.1.0,>=0.0.7->spacy>=2.2.2->en_core_web_md==2.2.5) (3.4.0)\n",
            "Building wheels for collected packages: en-core-web-md\n",
            "  Building wheel for en-core-web-md (setup.py) ... \u001b[?25l\u001b[?25hdone\n",
            "  Created wheel for en-core-web-md: filename=en_core_web_md-2.2.5-cp36-none-any.whl size=98051305 sha256=db3d25ea78df6c7166a20f34ae2f7984dd1d299477f258dc6540ac59b9386c27\n",
            "  Stored in directory: /tmp/pip-ephem-wheel-cache-nz8feijf/wheels/df/94/ad/f5cf59224cea6b5686ac4fd1ad19c8a07bc026e13c36502d81\n",
            "Successfully built en-core-web-md\n",
            "Installing collected packages: en-core-web-md\n",
            "Successfully installed en-core-web-md-2.2.5\n",
            "\u001b[38;5;2m✔ Download and installation successful\u001b[0m\n",
            "You can now load the model via spacy.load('en_core_web_md')\n"
          ],
          "name": "stdout"
        }
      ]
    },
    {
      "cell_type": "code",
      "metadata": {
        "id": "1gFWSCMiuliQ"
      },
      "source": [
        "X = train[\"text\"].tolist()\n",
        "y = train[\"Computer Science\"].tolist()"
      ],
      "execution_count": null,
      "outputs": []
    },
    {
      "cell_type": "code",
      "metadata": {
        "id": "F5X4ygVLwmXH",
        "outputId": "46b620e2-70e2-421b-de44-74addd25de3c",
        "colab": {
          "base_uri": "https://localhost:8080/"
        }
      },
      "source": [
        "tfidf = TfidfVectorizer(sublinear_tf=True, min_df=5,\n",
        "                    \n",
        "                        stop_words='english')\n",
        "\n",
        "# We transform each text into a vector\n",
        "features = tfidf.fit_transform(X).toarray()\n",
        "\n",
        "labels_CS_y = y\n",
        "\n",
        "print(\"Each of the %d article entries is represented by %d features (TF-IDF score of unigrams and bigrams)\" %(features.shape))"
      ],
      "execution_count": null,
      "outputs": [
        {
          "output_type": "stream",
          "text": [
            "Each of the 20972 article entries is represented by 11197 features (TF-IDF score of unigrams and bigrams)\n"
          ],
          "name": "stdout"
        }
      ]
    },
    {
      "cell_type": "code",
      "metadata": {
        "id": "QP0NkUaBsuSv"
      },
      "source": [
        "models = [\n",
        "    LinearSVC(),\n",
        "]\n",
        "\n",
        "# 5 Cross-validation\n",
        "CV = 5\n",
        "cv_df = pd.DataFrame(index=range(CV * len(models)))\n",
        "\n",
        "entries = []\n",
        "for model in models:\n",
        "  model_name = model.__class__.__name__\n",
        "  accuracies = cross_val_score(model, features, labels_CS_y, scoring='accuracy', cv=CV)\n",
        "  for fold_idx, accuracy in enumerate(accuracies):\n",
        "    entries.append((model_name, fold_idx, accuracy))\n",
        "    \n",
        "cv_df = pd.DataFrame(entries, columns=['model_name', 'fold_idx', 'accuracy'])"
      ],
      "execution_count": null,
      "outputs": []
    },
    {
      "cell_type": "code",
      "metadata": {
        "id": "fL_31IxftKAX",
        "outputId": "588b10dd-06a5-486b-caf4-aac020353674",
        "colab": {
          "base_uri": "https://localhost:8080/",
          "height": 142
        }
      },
      "source": [
        "mean_accuracy = cv_df.groupby('model_name').accuracy.mean()\n",
        "std_accuracy = cv_df.groupby('model_name').accuracy.std()\n",
        "\n",
        "acc = pd.concat([mean_accuracy, std_accuracy], axis= 1, \n",
        "          ignore_index=True)\n",
        "acc.columns = ['Mean Accuracy', 'Standard deviation']\n",
        "acc"
      ],
      "execution_count": null,
      "outputs": [
        {
          "output_type": "execute_result",
          "data": {
            "text/html": [
              "<div>\n",
              "<style scoped>\n",
              "    .dataframe tbody tr th:only-of-type {\n",
              "        vertical-align: middle;\n",
              "    }\n",
              "\n",
              "    .dataframe tbody tr th {\n",
              "        vertical-align: top;\n",
              "    }\n",
              "\n",
              "    .dataframe thead th {\n",
              "        text-align: right;\n",
              "    }\n",
              "</style>\n",
              "<table border=\"1\" class=\"dataframe\">\n",
              "  <thead>\n",
              "    <tr style=\"text-align: right;\">\n",
              "      <th></th>\n",
              "      <th>Mean Accuracy</th>\n",
              "      <th>Standard deviation</th>\n",
              "    </tr>\n",
              "    <tr>\n",
              "      <th>model_name</th>\n",
              "      <th></th>\n",
              "      <th></th>\n",
              "    </tr>\n",
              "  </thead>\n",
              "  <tbody>\n",
              "    <tr>\n",
              "      <th>LinearSVC</th>\n",
              "      <td>0.849914</td>\n",
              "      <td>0.003926</td>\n",
              "    </tr>\n",
              "    <tr>\n",
              "      <th>RandomForestClassifier</th>\n",
              "      <td>0.682482</td>\n",
              "      <td>0.004410</td>\n",
              "    </tr>\n",
              "  </tbody>\n",
              "</table>\n",
              "</div>"
            ],
            "text/plain": [
              "                        Mean Accuracy  Standard deviation\n",
              "model_name                                               \n",
              "LinearSVC                    0.849914            0.003926\n",
              "RandomForestClassifier       0.682482            0.004410"
            ]
          },
          "metadata": {
            "tags": []
          },
          "execution_count": 69
        }
      ]
    },
    {
      "cell_type": "code",
      "metadata": {
        "id": "T_7jKDVruKuP"
      },
      "source": [
        "X_train, X_test, y_train, y_test,indices_train,indices_test = train_test_split(features, \n",
        "                                                               labels_CS_y, \n",
        "                                                               train.index, test_size=0.20, \n",
        "                                                               random_state=1)\n",
        "model =   LinearSVC()\n",
        "model.fit(X_train, y_train)\n",
        "y_pred = model.predict(X_test)"
      ],
      "execution_count": null,
      "outputs": []
    },
    {
      "cell_type": "markdown",
      "metadata": {
        "id": "r28R-slWCUMT"
      },
      "source": [
        "#Text Classification for binary encoded label with Spacy"
      ]
    },
    {
      "cell_type": "code",
      "metadata": {
        "id": "Y4KDVhm8lsy1"
      },
      "source": [
        "X_train, X_test, = train_test_split(train, test_size=0.33, random_state=42)"
      ],
      "execution_count": null,
      "outputs": []
    },
    {
      "cell_type": "code",
      "metadata": {
        "id": "h7vKCkQGl5lF"
      },
      "source": [
        "text_train=X_train['text'].tolist()\n",
        "text_test=X_test['text'].tolist()"
      ],
      "execution_count": null,
      "outputs": []
    },
    {
      "cell_type": "code",
      "metadata": {
        "id": "2nE_V5QaoCa4",
        "outputId": "1847529c-f0fb-446d-b32d-9e3c8d355d4b",
        "colab": {
          "base_uri": "https://localhost:8080/"
        }
      },
      "source": [
        "!python -m spacy download en_core_web_md"
      ],
      "execution_count": null,
      "outputs": [
        {
          "output_type": "stream",
          "text": [
            "Collecting en_core_web_md==2.2.5\n",
            "\u001b[?25l  Downloading https://github.com/explosion/spacy-models/releases/download/en_core_web_md-2.2.5/en_core_web_md-2.2.5.tar.gz (96.4MB)\n",
            "\u001b[K     |████████████████████████████████| 96.4MB 1.3MB/s \n",
            "\u001b[?25hRequirement already satisfied: spacy>=2.2.2 in /usr/local/lib/python3.6/dist-packages (from en_core_web_md==2.2.5) (2.2.4)\n",
            "Requirement already satisfied: murmurhash<1.1.0,>=0.28.0 in /usr/local/lib/python3.6/dist-packages (from spacy>=2.2.2->en_core_web_md==2.2.5) (1.0.3)\n",
            "Requirement already satisfied: tqdm<5.0.0,>=4.38.0 in /usr/local/lib/python3.6/dist-packages (from spacy>=2.2.2->en_core_web_md==2.2.5) (4.41.1)\n",
            "Requirement already satisfied: wasabi<1.1.0,>=0.4.0 in /usr/local/lib/python3.6/dist-packages (from spacy>=2.2.2->en_core_web_md==2.2.5) (0.8.0)\n",
            "Requirement already satisfied: cymem<2.1.0,>=2.0.2 in /usr/local/lib/python3.6/dist-packages (from spacy>=2.2.2->en_core_web_md==2.2.5) (2.0.4)\n",
            "Requirement already satisfied: plac<1.2.0,>=0.9.6 in /usr/local/lib/python3.6/dist-packages (from spacy>=2.2.2->en_core_web_md==2.2.5) (1.1.3)\n",
            "Requirement already satisfied: setuptools in /usr/local/lib/python3.6/dist-packages (from spacy>=2.2.2->en_core_web_md==2.2.5) (50.3.2)\n",
            "Requirement already satisfied: requests<3.0.0,>=2.13.0 in /usr/local/lib/python3.6/dist-packages (from spacy>=2.2.2->en_core_web_md==2.2.5) (2.23.0)\n",
            "Requirement already satisfied: srsly<1.1.0,>=1.0.2 in /usr/local/lib/python3.6/dist-packages (from spacy>=2.2.2->en_core_web_md==2.2.5) (1.0.2)\n",
            "Requirement already satisfied: blis<0.5.0,>=0.4.0 in /usr/local/lib/python3.6/dist-packages (from spacy>=2.2.2->en_core_web_md==2.2.5) (0.4.1)\n",
            "Requirement already satisfied: thinc==7.4.0 in /usr/local/lib/python3.6/dist-packages (from spacy>=2.2.2->en_core_web_md==2.2.5) (7.4.0)\n",
            "Requirement already satisfied: preshed<3.1.0,>=3.0.2 in /usr/local/lib/python3.6/dist-packages (from spacy>=2.2.2->en_core_web_md==2.2.5) (3.0.2)\n",
            "Requirement already satisfied: numpy>=1.15.0 in /usr/local/lib/python3.6/dist-packages (from spacy>=2.2.2->en_core_web_md==2.2.5) (1.18.5)\n",
            "Requirement already satisfied: catalogue<1.1.0,>=0.0.7 in /usr/local/lib/python3.6/dist-packages (from spacy>=2.2.2->en_core_web_md==2.2.5) (1.0.0)\n",
            "Requirement already satisfied: certifi>=2017.4.17 in /usr/local/lib/python3.6/dist-packages (from requests<3.0.0,>=2.13.0->spacy>=2.2.2->en_core_web_md==2.2.5) (2020.6.20)\n",
            "Requirement already satisfied: chardet<4,>=3.0.2 in /usr/local/lib/python3.6/dist-packages (from requests<3.0.0,>=2.13.0->spacy>=2.2.2->en_core_web_md==2.2.5) (3.0.4)\n",
            "Requirement already satisfied: urllib3!=1.25.0,!=1.25.1,<1.26,>=1.21.1 in /usr/local/lib/python3.6/dist-packages (from requests<3.0.0,>=2.13.0->spacy>=2.2.2->en_core_web_md==2.2.5) (1.24.3)\n",
            "Requirement already satisfied: idna<3,>=2.5 in /usr/local/lib/python3.6/dist-packages (from requests<3.0.0,>=2.13.0->spacy>=2.2.2->en_core_web_md==2.2.5) (2.10)\n",
            "Requirement already satisfied: importlib-metadata>=0.20; python_version < \"3.8\" in /usr/local/lib/python3.6/dist-packages (from catalogue<1.1.0,>=0.0.7->spacy>=2.2.2->en_core_web_md==2.2.5) (2.0.0)\n",
            "Requirement already satisfied: zipp>=0.5 in /usr/local/lib/python3.6/dist-packages (from importlib-metadata>=0.20; python_version < \"3.8\"->catalogue<1.1.0,>=0.0.7->spacy>=2.2.2->en_core_web_md==2.2.5) (3.4.0)\n",
            "Building wheels for collected packages: en-core-web-md\n",
            "  Building wheel for en-core-web-md (setup.py) ... \u001b[?25l\u001b[?25hdone\n",
            "  Created wheel for en-core-web-md: filename=en_core_web_md-2.2.5-cp36-none-any.whl size=98051305 sha256=1f6d1285a6e65f41e1e0183c564cce99e5c38799fd1a0c8420ffefd922af049b\n",
            "  Stored in directory: /tmp/pip-ephem-wheel-cache-7d0jfnwc/wheels/df/94/ad/f5cf59224cea6b5686ac4fd1ad19c8a07bc026e13c36502d81\n",
            "Successfully built en-core-web-md\n",
            "Installing collected packages: en-core-web-md\n",
            "Successfully installed en-core-web-md-2.2.5\n",
            "\u001b[38;5;2m✔ Download and installation successful\u001b[0m\n",
            "You can now load the model via spacy.load('en_core_web_md')\n"
          ],
          "name": "stdout"
        }
      ]
    },
    {
      "cell_type": "code",
      "metadata": {
        "id": "F4e7W68plVpA"
      },
      "source": [
        "import spacy\n",
        "nlp = spacy.load('en_core_web_md')"
      ],
      "execution_count": null,
      "outputs": []
    },
    {
      "cell_type": "code",
      "metadata": {
        "id": "UXJlIoAxn1Mx"
      },
      "source": [
        "docs_train=[nlp(text) for text in text_train]\n",
        "docs_test=[nlp(text) for text in text_test]"
      ],
      "execution_count": null,
      "outputs": []
    },
    {
      "cell_type": "code",
      "metadata": {
        "id": "OiRUGf7ZmNll"
      },
      "source": [
        "train_x_vectors=[x.vector for x in docs_train]\n",
        "test_x_vectors=[x.vector for x in docs_test]"
      ],
      "execution_count": null,
      "outputs": []
    },
    {
      "cell_type": "code",
      "metadata": {
        "id": "wBm_XOy8mWHF"
      },
      "source": [
        "y_train = X_train[\"label\"].tolist()\n",
        "y_test = X_test[\"label\"].tolist()"
      ],
      "execution_count": null,
      "outputs": []
    },
    {
      "cell_type": "code",
      "metadata": {
        "id": "HcMKu0zKvFs2",
        "outputId": "f78dc6a0-551e-43a4-f5d4-da24652a6dce",
        "colab": {
          "base_uri": "https://localhost:8080/"
        }
      },
      "source": [
        "model_spacy = LinearSVC(verbose=1, max_iter=2000, C=10.0)\n",
        "model_spacy.fit(train_x_vectors, y_train)"
      ],
      "execution_count": null,
      "outputs": [
        {
          "output_type": "stream",
          "text": [
            "[LibLinear]"
          ],
          "name": "stdout"
        },
        {
          "output_type": "execute_result",
          "data": {
            "text/plain": [
              "LinearSVC(C=10.0, class_weight=None, dual=True, fit_intercept=True,\n",
              "          intercept_scaling=1, loss='squared_hinge', max_iter=2000,\n",
              "          multi_class='ovr', penalty='l2', random_state=None, tol=0.0001,\n",
              "          verbose=1)"
            ]
          },
          "metadata": {
            "tags": []
          },
          "execution_count": 77
        }
      ]
    },
    {
      "cell_type": "code",
      "metadata": {
        "id": "XLl4sE6OvhEU"
      },
      "source": [
        "y_pred = model_spacy.predict(test_x_vectors)"
      ],
      "execution_count": null,
      "outputs": []
    },
    {
      "cell_type": "code",
      "metadata": {
        "id": "15K0yUZGvtls"
      },
      "source": [
        "data = {'real': y_test, 'predicted': y_pred}\n",
        "predicted = pd.DataFrame(data=data)"
      ],
      "execution_count": null,
      "outputs": []
    },
    {
      "cell_type": "code",
      "metadata": {
        "id": "PWF-Z11tvwsr"
      },
      "source": [
        "from numpy import binary_repr\n",
        "\n",
        "def dec_to_binary(x):\n",
        "  return binary_repr(int(x), width=6)\n",
        "\n",
        "predicted.real=predicted.real.apply(lambda x:dec_to_binary(x))\n",
        "predicted.predicted=predicted.predicted.apply(lambda x:dec_to_binary(x))"
      ],
      "execution_count": null,
      "outputs": []
    },
    {
      "cell_type": "code",
      "metadata": {
        "id": "7aLUevusvybr"
      },
      "source": [
        "predicted.real=predicted.real.astype('str')\n",
        "predicted.predicted=predicted.predicted.astype('str')\n",
        "\n",
        "predicted.real=predicted.real.values.tolist()\n",
        "predicted.predicted=predicted.predicted.values.tolist()"
      ],
      "execution_count": null,
      "outputs": []
    },
    {
      "cell_type": "code",
      "metadata": {
        "id": "RfExOPEIv1bL"
      },
      "source": [
        "predicted['cs']=np.zeros((predicted.shape[0]))\n",
        "predicted['ph']=np.zeros((predicted.shape[0]))\n",
        "predicted['mat']=np.zeros((predicted.shape[0]))\n",
        "predicted['stat']=np.zeros((predicted.shape[0]))\n",
        "predicted['qb']=np.zeros((predicted.shape[0]))\n",
        "predicted['qf']=np.zeros((predicted.shape[0]))\n",
        "\n",
        "\n",
        "predicted['cs_p']=np.zeros((predicted.shape[0]))\n",
        "predicted['ph_p']=np.zeros((predicted.shape[0]))\n",
        "predicted['mat_p']=np.zeros((predicted.shape[0]))\n",
        "predicted['stat_p']=np.zeros((predicted.shape[0]))\n",
        "predicted['qb_p']=np.zeros((predicted.shape[0]))\n",
        "predicted['qf_p']=np.zeros((predicted.shape[0]))"
      ],
      "execution_count": null,
      "outputs": []
    },
    {
      "cell_type": "code",
      "metadata": {
        "id": "uZXb3wsRv330"
      },
      "source": [
        "#CS, PH, MAT, STAT, QB, QF\n",
        "i=0\n",
        "for item in predicted.real:\n",
        "  predicted['cs'][i]=item[0]\n",
        "  predicted['ph'][i]=item[1]\n",
        "  predicted['mat'][i]=item[2]\n",
        "  predicted['stat'][i]=item[3]\n",
        "  predicted['qb'][i]=item[4]\n",
        "  predicted['qf'][i]=item[5]\n",
        "  i=i+1\n",
        "\n",
        "i=0\n",
        "for item in predicted.predicted:\n",
        "  predicted['cs_p'][i]=item[0]\n",
        "  predicted['ph_p'][i]=item[1]\n",
        "  predicted['mat_p'][i]=item[2]\n",
        "  predicted['stat_p'][i]=item[3]\n",
        "  predicted['qb_p'][i]=item[4]\n",
        "  predicted['qf_p'][i]=item[5]\n",
        "  i=i+1"
      ],
      "execution_count": null,
      "outputs": []
    },
    {
      "cell_type": "code",
      "metadata": {
        "id": "JknjuD7yv6aR"
      },
      "source": [
        "predicted['cs']=predicted['cs'].astype('int32')\n",
        "predicted['ph']=predicted['ph'].astype('int32')\n",
        "predicted['mat']=predicted['mat'].astype('int32')\n",
        "predicted['stat']=predicted['stat'].astype('int32')\n",
        "predicted['qb']=predicted['qb'].astype('int32')\n",
        "predicted['qf']=predicted['qf'].astype('int32')\n",
        "\n",
        "\n",
        "predicted['cs_p']=predicted['cs_p'].astype('int32')\n",
        "predicted['ph_p']=predicted['ph_p'].astype('int32')\n",
        "predicted['mat_p']=predicted['mat_p'].astype('int32')\n",
        "predicted['stat_p']=predicted['stat_p'].astype('int32')\n",
        "predicted['qb_p']=predicted['qb_p'].astype('int32')\n",
        "predicted['qf_p']=predicted['qf_p'].astype('int32')"
      ],
      "execution_count": null,
      "outputs": []
    },
    {
      "cell_type": "code",
      "metadata": {
        "id": "Q5lur58jv7DZ",
        "outputId": "951eb19f-bf50-421d-b603-bf4f1b7ddac2",
        "colab": {
          "base_uri": "https://localhost:8080/",
          "height": 419
        }
      },
      "source": [
        "predicted"
      ],
      "execution_count": null,
      "outputs": [
        {
          "output_type": "execute_result",
          "data": {
            "text/html": [
              "<div>\n",
              "<style scoped>\n",
              "    .dataframe tbody tr th:only-of-type {\n",
              "        vertical-align: middle;\n",
              "    }\n",
              "\n",
              "    .dataframe tbody tr th {\n",
              "        vertical-align: top;\n",
              "    }\n",
              "\n",
              "    .dataframe thead th {\n",
              "        text-align: right;\n",
              "    }\n",
              "</style>\n",
              "<table border=\"1\" class=\"dataframe\">\n",
              "  <thead>\n",
              "    <tr style=\"text-align: right;\">\n",
              "      <th></th>\n",
              "      <th>real</th>\n",
              "      <th>predicted</th>\n",
              "      <th>cs</th>\n",
              "      <th>ph</th>\n",
              "      <th>mat</th>\n",
              "      <th>stat</th>\n",
              "      <th>qb</th>\n",
              "      <th>qf</th>\n",
              "      <th>cs_p</th>\n",
              "      <th>ph_p</th>\n",
              "      <th>mat_p</th>\n",
              "      <th>stat_p</th>\n",
              "      <th>qb_p</th>\n",
              "      <th>qf_p</th>\n",
              "    </tr>\n",
              "  </thead>\n",
              "  <tbody>\n",
              "    <tr>\n",
              "      <th>0</th>\n",
              "      <td>100000</td>\n",
              "      <td>100100</td>\n",
              "      <td>1</td>\n",
              "      <td>0</td>\n",
              "      <td>0</td>\n",
              "      <td>0</td>\n",
              "      <td>0</td>\n",
              "      <td>0</td>\n",
              "      <td>1</td>\n",
              "      <td>0</td>\n",
              "      <td>0</td>\n",
              "      <td>1</td>\n",
              "      <td>0</td>\n",
              "      <td>0</td>\n",
              "    </tr>\n",
              "    <tr>\n",
              "      <th>1</th>\n",
              "      <td>001100</td>\n",
              "      <td>001000</td>\n",
              "      <td>0</td>\n",
              "      <td>0</td>\n",
              "      <td>1</td>\n",
              "      <td>1</td>\n",
              "      <td>0</td>\n",
              "      <td>0</td>\n",
              "      <td>0</td>\n",
              "      <td>0</td>\n",
              "      <td>1</td>\n",
              "      <td>0</td>\n",
              "      <td>0</td>\n",
              "      <td>0</td>\n",
              "    </tr>\n",
              "    <tr>\n",
              "      <th>2</th>\n",
              "      <td>101000</td>\n",
              "      <td>100000</td>\n",
              "      <td>1</td>\n",
              "      <td>0</td>\n",
              "      <td>1</td>\n",
              "      <td>0</td>\n",
              "      <td>0</td>\n",
              "      <td>0</td>\n",
              "      <td>1</td>\n",
              "      <td>0</td>\n",
              "      <td>0</td>\n",
              "      <td>0</td>\n",
              "      <td>0</td>\n",
              "      <td>0</td>\n",
              "    </tr>\n",
              "    <tr>\n",
              "      <th>3</th>\n",
              "      <td>010100</td>\n",
              "      <td>001000</td>\n",
              "      <td>0</td>\n",
              "      <td>1</td>\n",
              "      <td>0</td>\n",
              "      <td>1</td>\n",
              "      <td>0</td>\n",
              "      <td>0</td>\n",
              "      <td>0</td>\n",
              "      <td>0</td>\n",
              "      <td>1</td>\n",
              "      <td>0</td>\n",
              "      <td>0</td>\n",
              "      <td>0</td>\n",
              "    </tr>\n",
              "    <tr>\n",
              "      <th>4</th>\n",
              "      <td>100000</td>\n",
              "      <td>100000</td>\n",
              "      <td>1</td>\n",
              "      <td>0</td>\n",
              "      <td>0</td>\n",
              "      <td>0</td>\n",
              "      <td>0</td>\n",
              "      <td>0</td>\n",
              "      <td>1</td>\n",
              "      <td>0</td>\n",
              "      <td>0</td>\n",
              "      <td>0</td>\n",
              "      <td>0</td>\n",
              "      <td>0</td>\n",
              "    </tr>\n",
              "    <tr>\n",
              "      <th>...</th>\n",
              "      <td>...</td>\n",
              "      <td>...</td>\n",
              "      <td>...</td>\n",
              "      <td>...</td>\n",
              "      <td>...</td>\n",
              "      <td>...</td>\n",
              "      <td>...</td>\n",
              "      <td>...</td>\n",
              "      <td>...</td>\n",
              "      <td>...</td>\n",
              "      <td>...</td>\n",
              "      <td>...</td>\n",
              "      <td>...</td>\n",
              "      <td>...</td>\n",
              "    </tr>\n",
              "    <tr>\n",
              "      <th>6916</th>\n",
              "      <td>000010</td>\n",
              "      <td>010000</td>\n",
              "      <td>0</td>\n",
              "      <td>0</td>\n",
              "      <td>0</td>\n",
              "      <td>0</td>\n",
              "      <td>1</td>\n",
              "      <td>0</td>\n",
              "      <td>0</td>\n",
              "      <td>1</td>\n",
              "      <td>0</td>\n",
              "      <td>0</td>\n",
              "      <td>0</td>\n",
              "      <td>0</td>\n",
              "    </tr>\n",
              "    <tr>\n",
              "      <th>6917</th>\n",
              "      <td>000100</td>\n",
              "      <td>001000</td>\n",
              "      <td>0</td>\n",
              "      <td>0</td>\n",
              "      <td>0</td>\n",
              "      <td>1</td>\n",
              "      <td>0</td>\n",
              "      <td>0</td>\n",
              "      <td>0</td>\n",
              "      <td>0</td>\n",
              "      <td>1</td>\n",
              "      <td>0</td>\n",
              "      <td>0</td>\n",
              "      <td>0</td>\n",
              "    </tr>\n",
              "    <tr>\n",
              "      <th>6918</th>\n",
              "      <td>001000</td>\n",
              "      <td>001000</td>\n",
              "      <td>0</td>\n",
              "      <td>0</td>\n",
              "      <td>1</td>\n",
              "      <td>0</td>\n",
              "      <td>0</td>\n",
              "      <td>0</td>\n",
              "      <td>0</td>\n",
              "      <td>0</td>\n",
              "      <td>1</td>\n",
              "      <td>0</td>\n",
              "      <td>0</td>\n",
              "      <td>0</td>\n",
              "    </tr>\n",
              "    <tr>\n",
              "      <th>6919</th>\n",
              "      <td>010000</td>\n",
              "      <td>010000</td>\n",
              "      <td>0</td>\n",
              "      <td>1</td>\n",
              "      <td>0</td>\n",
              "      <td>0</td>\n",
              "      <td>0</td>\n",
              "      <td>0</td>\n",
              "      <td>0</td>\n",
              "      <td>1</td>\n",
              "      <td>0</td>\n",
              "      <td>0</td>\n",
              "      <td>0</td>\n",
              "      <td>0</td>\n",
              "    </tr>\n",
              "    <tr>\n",
              "      <th>6920</th>\n",
              "      <td>100000</td>\n",
              "      <td>100100</td>\n",
              "      <td>1</td>\n",
              "      <td>0</td>\n",
              "      <td>0</td>\n",
              "      <td>0</td>\n",
              "      <td>0</td>\n",
              "      <td>0</td>\n",
              "      <td>1</td>\n",
              "      <td>0</td>\n",
              "      <td>0</td>\n",
              "      <td>1</td>\n",
              "      <td>0</td>\n",
              "      <td>0</td>\n",
              "    </tr>\n",
              "  </tbody>\n",
              "</table>\n",
              "<p>6921 rows × 14 columns</p>\n",
              "</div>"
            ],
            "text/plain": [
              "        real predicted  cs  ph  mat  ...  ph_p  mat_p  stat_p  qb_p  qf_p\n",
              "0     100000    100100   1   0    0  ...     0      0       1     0     0\n",
              "1     001100    001000   0   0    1  ...     0      1       0     0     0\n",
              "2     101000    100000   1   0    1  ...     0      0       0     0     0\n",
              "3     010100    001000   0   1    0  ...     0      1       0     0     0\n",
              "4     100000    100000   1   0    0  ...     0      0       0     0     0\n",
              "...      ...       ...  ..  ..  ...  ...   ...    ...     ...   ...   ...\n",
              "6916  000010    010000   0   0    0  ...     1      0       0     0     0\n",
              "6917  000100    001000   0   0    0  ...     0      1       0     0     0\n",
              "6918  001000    001000   0   0    1  ...     0      1       0     0     0\n",
              "6919  010000    010000   0   1    0  ...     1      0       0     0     0\n",
              "6920  100000    100100   1   0    0  ...     0      0       1     0     0\n",
              "\n",
              "[6921 rows x 14 columns]"
            ]
          },
          "metadata": {
            "tags": []
          },
          "execution_count": 86
        }
      ]
    },
    {
      "cell_type": "code",
      "metadata": {
        "id": "5D9Cl7lNwDfx"
      },
      "source": [
        "train['Computer Science Labels']=train['Computer Science'].astype('str')\n",
        "train['Physics Labels']=train['Physics'].astype('str')\n",
        "train['Mathematics Labels']=train['Mathematics'].astype('str')\n",
        "train['Statistics Labels']=train['Statistics'].astype('str')\n",
        "train['Quantitative Biology Labels']=train['Quantitative Biology'].astype('str')\n",
        "train['Quantitative Finance Labels']=train['Quantitative Finance'].astype('str')"
      ],
      "execution_count": null,
      "outputs": []
    },
    {
      "cell_type": "code",
      "metadata": {
        "id": "T2ab7e3IwFhN",
        "outputId": "204533ab-d523-47d1-fd5f-2812e3e04792",
        "colab": {
          "base_uri": "https://localhost:8080/"
        }
      },
      "source": [
        "for index in range(6):\n",
        "  if index==0:\n",
        "    print('\\t\\t\\t\\tCLASSIFICATIION METRICS CS\\n')\n",
        "    print(metrics.classification_report(predicted['cs'], predicted['cs_p'], \n",
        "                                      target_names= train['Computer Science Labels'].unique()))\n",
        "  elif index==1:\n",
        "    print('\\t\\t\\t\\tCLASSIFICATIION METRICS PH\\n')\n",
        "    print(metrics.classification_report(predicted['ph'], predicted['ph_p'], \n",
        "                                      target_names= train['Physics Labels'].unique()))\n",
        "  elif index==2:\n",
        "    print('\\t\\t\\t\\tCLASSIFICATIION METRICS MAT\\n')\n",
        "    print(metrics.classification_report(predicted['mat'], predicted['mat_p'],\n",
        "                                      target_names= train['Mathematics Labels'].unique()))\n",
        "  elif index==3:\n",
        "    print('\\t\\t\\t\\tCLASSIFICATIION METRICS STAT\\n')\n",
        "    print(metrics.classification_report(predicted['stat'], predicted['stat_p'],\n",
        "                                      target_names= train['Statistics Labels'].unique()))\n",
        "  elif index==4:\n",
        "    print('\\t\\t\\t\\tCLASSIFICATIION METRICS QB\\n')\n",
        "    print(metrics.classification_report(predicted['qb'], predicted['qb_p'],\n",
        "                                      target_names= train['Quantitative Biology Labels'].unique()))\n",
        "  elif index==5:\n",
        "    print('\\t\\t\\t\\tCLASSIFICATIION METRICS QF\\n')\n",
        "    print(metrics.classification_report(predicted['qf'], predicted['qf_p'],\n",
        "                                      target_names= train['Quantitative Finance Labels'].unique()))"
      ],
      "execution_count": null,
      "outputs": [
        {
          "output_type": "stream",
          "text": [
            "\t\t\t\tCLASSIFICATIION METRICS CS\n",
            "\n",
            "              precision    recall  f1-score   support\n",
            "\n",
            "           1       0.88      0.85      0.87      4122\n",
            "           0       0.79      0.82      0.81      2799\n",
            "\n",
            "    accuracy                           0.84      6921\n",
            "   macro avg       0.84      0.84      0.84      6921\n",
            "weighted avg       0.84      0.84      0.84      6921\n",
            "\n",
            "\t\t\t\tCLASSIFICATIION METRICS PH\n",
            "\n",
            "              precision    recall  f1-score   support\n",
            "\n",
            "           0       0.93      0.96      0.94      4879\n",
            "           1       0.88      0.82      0.85      2042\n",
            "\n",
            "    accuracy                           0.92      6921\n",
            "   macro avg       0.91      0.89      0.90      6921\n",
            "weighted avg       0.91      0.92      0.91      6921\n",
            "\n",
            "\t\t\t\tCLASSIFICATIION METRICS MAT\n",
            "\n",
            "              precision    recall  f1-score   support\n",
            "\n",
            "           0       0.91      0.94      0.92      5050\n",
            "           1       0.82      0.74      0.78      1871\n",
            "\n",
            "    accuracy                           0.89      6921\n",
            "   macro avg       0.87      0.84      0.85      6921\n",
            "weighted avg       0.89      0.89      0.89      6921\n",
            "\n",
            "\t\t\t\tCLASSIFICATIION METRICS STAT\n",
            "\n",
            "              precision    recall  f1-score   support\n",
            "\n",
            "           0       0.87      0.94      0.91      5208\n",
            "           1       0.76      0.59      0.66      1713\n",
            "\n",
            "    accuracy                           0.85      6921\n",
            "   macro avg       0.82      0.76      0.79      6921\n",
            "weighted avg       0.85      0.85      0.85      6921\n",
            "\n",
            "\t\t\t\tCLASSIFICATIION METRICS QB\n",
            "\n",
            "              precision    recall  f1-score   support\n",
            "\n",
            "           0       0.98      0.99      0.99      6708\n",
            "           1       0.54      0.42      0.47       213\n",
            "\n",
            "    accuracy                           0.97      6921\n",
            "   macro avg       0.76      0.70      0.73      6921\n",
            "weighted avg       0.97      0.97      0.97      6921\n",
            "\n",
            "\t\t\t\tCLASSIFICATIION METRICS QF\n",
            "\n",
            "              precision    recall  f1-score   support\n",
            "\n",
            "           0       1.00      1.00      1.00      6849\n",
            "           1       0.57      0.57      0.57        72\n",
            "\n",
            "    accuracy                           0.99      6921\n",
            "   macro avg       0.78      0.78      0.78      6921\n",
            "weighted avg       0.99      0.99      0.99      6921\n",
            "\n"
          ],
          "name": "stdout"
        }
      ]
    },
    {
      "cell_type": "code",
      "metadata": {
        "id": "lLe4xE-4wJu-"
      },
      "source": [
        "cs_id=train['Computer Science Labels'].drop_duplicates()\n",
        "ph_id=train['Physics Labels'].drop_duplicates()\n",
        "mat_id=train['Mathematics Labels'].drop_duplicates()\n",
        "stat_id=train['Statistics Labels'].drop_duplicates()\n",
        "qb_id=train['Quantitative Biology Labels'].drop_duplicates()\n",
        "qf_id=train['Quantitative Finance Labels'].drop_duplicates()"
      ],
      "execution_count": null,
      "outputs": []
    },
    {
      "cell_type": "code",
      "metadata": {
        "id": "h3REJswWwMdx",
        "outputId": "c6ad13ed-64a9-418a-e59d-c25f64171ef2",
        "colab": {
          "base_uri": "https://localhost:8080/",
          "height": 1000
        }
      },
      "source": [
        "conf_mat = confusion_matrix(predicted['cs'], predicted['cs_p'],)\n",
        "fig, ax = plt.subplots(figsize=(8,8))\n",
        "sns.heatmap(conf_mat, annot=True, cmap=\"Blues\", fmt='d',\n",
        "            xticklabels=cs_id.values, \n",
        "            yticklabels=cs_id.values)\n",
        "plt.ylabel('Actual')\n",
        "plt.xlabel('Predicted')\n",
        "plt.title(\"CONFUSION MATRIX - LinearSVC\\n Computer Science Articles\", size=16);\n",
        "\n",
        "conf_mat = confusion_matrix(predicted['ph'], predicted['ph_p'],)\n",
        "fig, ax = plt.subplots(figsize=(8,8))\n",
        "sns.heatmap(conf_mat, annot=True, cmap=\"Blues\", fmt='d',\n",
        "            xticklabels=ph_id.values, \n",
        "            yticklabels=ph_id.values)\n",
        "plt.ylabel('Actual')\n",
        "plt.xlabel('Predicted')\n",
        "plt.title(\"CONFUSION MATRIX - LinearSVC\\n Physics Articles\", size=16);\n",
        "\n",
        "conf_mat = confusion_matrix(predicted['mat'], predicted['mat_p'],)\n",
        "fig, ax = plt.subplots(figsize=(8,8))\n",
        "sns.heatmap(conf_mat, annot=True, cmap=\"Blues\", fmt='d',\n",
        "            xticklabels=mat_id.values, \n",
        "            yticklabels=mat_id.values)\n",
        "plt.ylabel('Actual')\n",
        "plt.xlabel('Predicted')\n",
        "plt.title(\"CONFUSION MATRIX - LinearSVC\\n Mathematics Articles\", size=16);\n",
        "\n",
        "conf_mat = confusion_matrix(predicted['stat'], predicted['stat_p'],)\n",
        "fig, ax = plt.subplots(figsize=(8,8))\n",
        "sns.heatmap(conf_mat, annot=True, cmap=\"Blues\", fmt='d',\n",
        "            xticklabels=stat_id.values, \n",
        "            yticklabels=stat_id.values)\n",
        "plt.ylabel('Actual')\n",
        "plt.xlabel('Predicted')\n",
        "plt.title(\"CONFUSION MATRIX - LinearSVC\\n Statistics Articles\", size=16);\n",
        "\n",
        "conf_mat = confusion_matrix(predicted['qb'], predicted['qb_p'],)\n",
        "fig, ax = plt.subplots(figsize=(8,8))\n",
        "sns.heatmap(conf_mat, annot=True, cmap=\"Blues\", fmt='d',\n",
        "            xticklabels=qb_id.values, \n",
        "            yticklabels=qb_id.values)\n",
        "plt.ylabel('Actual')\n",
        "plt.xlabel('Predicted')\n",
        "plt.title(\"CONFUSION MATRIX - LinearSVC\\n Quantitative Biology Articles\", size=16);\n",
        "\n",
        "conf_mat = confusion_matrix(predicted['qf'], predicted['qf_p'],)\n",
        "fig, ax = plt.subplots(figsize=(8,8))\n",
        "sns.heatmap(conf_mat, annot=True, cmap=\"Blues\", fmt='d',\n",
        "            xticklabels=qf_id.values, \n",
        "            yticklabels=qf_id.values)\n",
        "plt.ylabel('Actual')\n",
        "plt.xlabel('Predicted')\n",
        "plt.title(\"CONFUSION MATRIX - LinearSVC\\n Quantitative Finance Articles\", size=16);"
      ],
      "execution_count": null,
      "outputs": [
        {
          "output_type": "display_data",
          "data": {
            "image/png": "[encoded data removed]",
            "text/plain": [
              "<Figure size 576x576 with 2 Axes>"
            ]
          },
          "metadata": {
            "tags": [],
            "needs_background": "light"
          }
        },
        {
          "output_type": "display_data",
          "data": {
            "image/png": "[encoded data removed]",
            "text/plain": [
              "<Figure size 576x576 with 2 Axes>"
            ]
          },
          "metadata": {
            "tags": [],
            "needs_background": "light"
          }
        },
        {
          "output_type": "display_data",
          "data": {
            "image/png": "[encoded data removed]",
            "text/plain": [
              "<Figure size 576x576 with 2 Axes>"
            ]
          },
          "metadata": {
            "tags": [],
            "needs_background": "light"
          }
        },
        {
          "output_type": "display_data",
          "data": {
            "image/png": "[encoded data removed]",
            "text/plain": [
              "<Figure size 576x576 with 2 Axes>"
            ]
          },
          "metadata": {
            "tags": [],
            "needs_background": "light"
          }
        },
        {
          "output_type": "display_data",
          "data": {
            "image/png": "[encoded data removed]",
            "text/plain": [
              "<Figure size 576x576 with 2 Axes>"
            ]
          },
          "metadata": {
            "tags": [],
            "needs_background": "light"
          }
        },
        {
          "output_type": "display_data",
          "data": {
            "image/png": "[encoded data removed]",
            "text/plain": [
              "<Figure size 576x576 with 2 Axes>"
            ]
          },
          "metadata": {
            "tags": [],
            "needs_background": "light"
          }
        }
      ]
    },
    {
      "cell_type": "markdown",
      "metadata": {
        "id": "IGVT_zjfmy3b"
      },
      "source": [
        "#Text Classification with BERT"
      ]
    },
    {
      "cell_type": "code",
      "metadata": {
        "id": "jZS21Dtkm57D"
      },
      "source": [
        "!pip install spacy-transformers==0.5.2"
      ],
      "execution_count": null,
      "outputs": []
    },
    {
      "cell_type": "code",
      "metadata": {
        "id": "pcdHIb7uow-O"
      },
      "source": [
        "!python -m spacy download en_trf_bertbaseuncased_lg"
      ],
      "execution_count": null,
      "outputs": []
    },
    {
      "cell_type": "code",
      "metadata": {
        "id": "_X1Ka7_gpCDH"
      },
      "source": [
        "!pip install --upgrade urllib3"
      ],
      "execution_count": null,
      "outputs": []
    },
    {
      "cell_type": "code",
      "metadata": {
        "id": "Z38mQF0qr61Z"
      },
      "source": [
        "X_train_b, X_test_b = train_test_split(train, test_size=0.33, random_state=42)"
      ],
      "execution_count": 8,
      "outputs": []
    },
    {
      "cell_type": "code",
      "metadata": {
        "id": "o5WZ0sgbYJ6w"
      },
      "source": [
        "X_train_bert=X_train_b[0:int(len(X_train_b)/2)] #take half of train dataset\n",
        "X_test_bert=X_test_b[0:int(len(X_test_b)/4)]"
      ],
      "execution_count": 9,
      "outputs": []
    },
    {
      "cell_type": "code",
      "metadata": {
        "id": "6G43dlzesCVG"
      },
      "source": [
        "text_train=X_train_bert['TITLE'].tolist()\n",
        "text_test=X_test_bert['TITLE'].tolist()"
      ],
      "execution_count": 10,
      "outputs": []
    },
    {
      "cell_type": "code",
      "metadata": {
        "id": "QBmaoKmeqBmY"
      },
      "source": [
        "import spacy\n",
        "import torch \n",
        "\n",
        "nlp = spacy.load(\"en_trf_bertbaseuncased_lg\")"
      ],
      "execution_count": 11,
      "outputs": []
    },
    {
      "cell_type": "code",
      "metadata": {
        "id": "RqGj1YeDqgyP"
      },
      "source": [
        "#fix for bug in spacy transformers sentencizier\n",
        "!pip install https://github.com/explosion/spacy-transformers/archive/v0.5.x.zip"
      ],
      "execution_count": null,
      "outputs": []
    },
    {
      "cell_type": "code",
      "metadata": {
        "id": "B-lnlDp9sP4w"
      },
      "source": [
        "docs_train=[nlp(text) for text in text_train]"
      ],
      "execution_count": null,
      "outputs": []
    },
    {
      "cell_type": "code",
      "metadata": {
        "id": "NIdM7hmaYVxn"
      },
      "source": [
        "docs_test=[nlp(text) for text in text_test]"
      ],
      "execution_count": null,
      "outputs": []
    },
    {
      "cell_type": "code",
      "metadata": {
        "id": "0DWKiZCmsh5G"
      },
      "source": [
        "train_x_vectors=[x.vector for x in docs_train]\n",
        "test_x_vectors=[x.vector for x in docs_test]"
      ],
      "execution_count": null,
      "outputs": []
    },
    {
      "cell_type": "code",
      "metadata": {
        "id": "NG5SD51LsmtA"
      },
      "source": [
        "y_train = X_train_bert[\"label\"].tolist()\n",
        "y_test_bert = X_test_bert[\"label\"].tolist()"
      ],
      "execution_count": null,
      "outputs": []
    },
    {
      "cell_type": "code",
      "metadata": {
        "id": "XymHtEbssrgo"
      },
      "source": [
        "model_bert = LinearSVC(verbose=1, C=10.0)\n",
        "model_bert.fit(train_x_vectors, y_train)"
      ],
      "execution_count": null,
      "outputs": []
    },
    {
      "cell_type": "code",
      "metadata": {
        "id": "6WVk_vKZsxl1"
      },
      "source": [
        "y_pred_bert = model_bert.predict(test_x_vectors)"
      ],
      "execution_count": null,
      "outputs": []
    },
    {
      "cell_type": "code",
      "metadata": {
        "id": "keoMlxMhs8nZ"
      },
      "source": [
        "data = {'real': y_test_bert, 'predicted': y_pred_bert}\n",
        "bert = pd.DataFrame(data=data)"
      ],
      "execution_count": null,
      "outputs": []
    },
    {
      "cell_type": "code",
      "metadata": {
        "id": "pIvunVt92Kw9"
      },
      "source": [
        "bert.to_csv('./bert.csv')"
      ],
      "execution_count": null,
      "outputs": []
    },
    {
      "cell_type": "code",
      "metadata": {
        "id": "g7JCUjKKtCz-"
      },
      "source": [
        "from numpy import binary_repr\n",
        "\n",
        "def dec_to_binary(x):\n",
        "  return binary_repr(int(x), width=6)\n",
        "\n",
        "bert.real=bert.real.apply(lambda x:dec_to_binary(x))\n",
        "bert.predicted=bert.predicted.apply(lambda x:dec_to_binary(x))"
      ],
      "execution_count": null,
      "outputs": []
    },
    {
      "cell_type": "code",
      "metadata": {
        "id": "vgJsd1h_tF_w"
      },
      "source": [
        "bert.real=bert.real.astype('str')\n",
        "bert.predicted=bert.predicted.astype('str')\n",
        "\n",
        "bert.real=bert.real.values.tolist()\n",
        "bert.predicted=bert.predicted.values.tolist()"
      ],
      "execution_count": null,
      "outputs": []
    },
    {
      "cell_type": "code",
      "metadata": {
        "id": "Jp3G3URWtI17"
      },
      "source": [
        "bert['cs']=np.zeros((bert.shape[0]))\n",
        "bert['ph']=np.zeros((bert.shape[0]))\n",
        "bert['mat']=np.zeros((bert.shape[0]))\n",
        "bert['stat']=np.zeros((bert.shape[0]))\n",
        "bert['qb']=np.zeros((bert.shape[0]))\n",
        "bert['qf']=np.zeros((bert.shape[0]))\n",
        "\n",
        "\n",
        "bert['cs_p']=np.zeros((bert.shape[0]))\n",
        "bert['ph_p']=np.zeros((bert.shape[0]))\n",
        "bert['mat_p']=np.zeros((bert.shape[0]))\n",
        "bert['stat_p']=np.zeros((bert.shape[0]))\n",
        "bert['qb_p']=np.zeros((bert.shape[0]))\n",
        "bert['qf_p']=np.zeros((bert.shape[0]))"
      ],
      "execution_count": null,
      "outputs": []
    },
    {
      "cell_type": "code",
      "metadata": {
        "id": "PKlvk8RQtLuG"
      },
      "source": [
        "#CS, PH, MAT, STAT, QB, QF\n",
        "i=0\n",
        "for item in bert.real:\n",
        "  bert['cs'][i]=item[0]\n",
        "  bert['ph'][i]=item[1]\n",
        "  bert['mat'][i]=item[2]\n",
        "  bert['stat'][i]=item[3]\n",
        "  bert['qb'][i]=item[4]\n",
        "  bert['qf'][i]=item[5]\n",
        "  i=i+1\n",
        "\n",
        "i=0\n",
        "for item in bert.predicted:\n",
        "  bert['cs_p'][i]=item[0]\n",
        "  bert['ph_p'][i]=item[1]\n",
        "  bert['mat_p'][i]=item[2]\n",
        "  bert['stat_p'][i]=item[3]\n",
        "  bert['qb_p'][i]=item[4]\n",
        "  bert['qf_p'][i]=item[5]\n",
        "  i=i+1"
      ],
      "execution_count": null,
      "outputs": []
    },
    {
      "cell_type": "code",
      "metadata": {
        "id": "xGL_FPDntPzD"
      },
      "source": [
        "bert['cs']=bert['cs'].astype('int32')\n",
        "bert['ph']=bert['ph'].astype('int32')\n",
        "bert['mat']=bert['mat'].astype('int32')\n",
        "bert['stat']=bert['stat'].astype('int32')\n",
        "bert['qb']=bert['qb'].astype('int32')\n",
        "bert['qf']=bert['qf'].astype('int32')\n",
        "\n",
        "\n",
        "bert['cs_p']=bert['cs_p'].astype('int32')\n",
        "bert['ph_p']=bert['ph_p'].astype('int32')\n",
        "bert['mat_p']=bert['mat_p'].astype('int32')\n",
        "bert['stat_p']=bert['stat_p'].astype('int32')\n",
        "bert['qb_p']=bert['qb_p'].astype('int32')\n",
        "bert['qf_p']=bert['qf_p'].astype('int32')"
      ],
      "execution_count": null,
      "outputs": []
    },
    {
      "cell_type": "code",
      "metadata": {
        "id": "DoY_sk7ptXLw"
      },
      "source": [
        "train['Computer Science Labels']=train['Computer Science'].astype('str')\n",
        "train['Physics Labels']=train['Physics'].astype('str')\n",
        "train['Mathematics Labels']=train['Mathematics'].astype('str')\n",
        "train['Statistics Labels']=train['Statistics'].astype('str')\n",
        "train['Quantitative Biology Labels']=train['Quantitative Biology'].astype('str')\n",
        "train['Quantitative Finance Labels']=train['Quantitative Finance'].astype('str')"
      ],
      "execution_count": null,
      "outputs": []
    },
    {
      "cell_type": "code",
      "metadata": {
        "id": "HTSOvUa-taSc"
      },
      "source": [
        "for index in range(6):\n",
        "  if index==0:\n",
        "    print('\\t\\t\\t\\tCLASSIFICATIION METRICS CS\\n')\n",
        "    print(metrics.classification_report(bert['cs'], bert['cs_p'], \n",
        "                                      target_names= train['Computer Science Labels'].unique()))\n",
        "  elif index==1:\n",
        "    print('\\t\\t\\t\\tCLASSIFICATIION METRICS PH\\n')\n",
        "    print(metrics.classification_report(bert['ph'], bert['ph_p'], \n",
        "                                      target_names= train['Physics Labels'].unique()))\n",
        "  elif index==2:\n",
        "    print('\\t\\t\\t\\tCLASSIFICATIION METRICS MAT\\n')\n",
        "    print(metrics.classification_report(bert['mat'], bert['mat_p'],\n",
        "                                      target_names= train['Mathematics Labels'].unique()))\n",
        "  elif index==3:\n",
        "    print('\\t\\t\\t\\tCLASSIFICATIION METRICS STAT\\n')\n",
        "    print(metrics.classification_report(bert['stat'], bert['stat_p'],\n",
        "                                      target_names= train['Statistics Labels'].unique()))\n",
        "  elif index==4:\n",
        "    print('\\t\\t\\t\\tCLASSIFICATIION METRICS QB\\n')\n",
        "    print(metrics.classification_report(bert['qb'], bert['qb_p'],\n",
        "                                      target_names= train['Quantitative Biology Labels'].unique()))\n",
        "  elif index==5:\n",
        "    print('\\t\\t\\t\\tCLASSIFICATIION METRICS QF\\n')\n",
        "    print(metrics.classification_report(bert['qf'], bert['qf_p'],\n",
        "                                      target_names= train['Quantitative Finance Labels'].unique()))"
      ],
      "execution_count": null,
      "outputs": []
    },
    {
      "cell_type": "code",
      "metadata": {
        "id": "3Ax4p-R3teTq"
      },
      "source": [
        "cs_id=train['Computer Science Labels'].drop_duplicates()\n",
        "ph_id=train['Physics Labels'].drop_duplicates()\n",
        "mat_id=train['Mathematics Labels'].drop_duplicates()\n",
        "stat_id=train['Statistics Labels'].drop_duplicates()\n",
        "qb_id=train['Quantitative Biology Labels'].drop_duplicates()\n",
        "qf_id=train['Quantitative Finance Labels'].drop_duplicates()"
      ],
      "execution_count": null,
      "outputs": []
    },
    {
      "cell_type": "code",
      "metadata": {
        "id": "M8xOYhOPtgYG"
      },
      "source": [
        "conf_mat = confusion_matrix(bert['cs'], bert['cs_p'],)\n",
        "fig, ax = plt.subplots(figsize=(8,8))\n",
        "sns.heatmap(conf_mat, annot=True, cmap=\"Blues\", fmt='d',\n",
        "            xticklabels=cs_id.values, \n",
        "            yticklabels=cs_id.values)\n",
        "plt.ylabel('Actual')\n",
        "plt.xlabel('Predicted')\n",
        "plt.title(\"CONFUSION MATRIX - LinearSVC\\n Computer Science Articles\", size=16);\n",
        "\n",
        "conf_mat = confusion_matrix(bert['ph'], bert['ph_p'],)\n",
        "fig, ax = plt.subplots(figsize=(8,8))\n",
        "sns.heatmap(conf_mat, annot=True, cmap=\"Blues\", fmt='d',\n",
        "            xticklabels=ph_id.values, \n",
        "            yticklabels=ph_id.values)\n",
        "plt.ylabel('Actual')\n",
        "plt.xlabel('Predicted')\n",
        "plt.title(\"CONFUSION MATRIX - LinearSVC\\n Physics Articles\", size=16);\n",
        "\n",
        "conf_mat = confusion_matrix(bert['mat'], bert['mat_p'],)\n",
        "fig, ax = plt.subplots(figsize=(8,8))\n",
        "sns.heatmap(conf_mat, annot=True, cmap=\"Blues\", fmt='d',\n",
        "            xticklabels=mat_id.values, \n",
        "            yticklabels=mat_id.values)\n",
        "plt.ylabel('Actual')\n",
        "plt.xlabel('Predicted')\n",
        "plt.title(\"CONFUSION MATRIX - LinearSVC\\n Mathematics Articles\", size=16);\n",
        "\n",
        "conf_mat = confusion_matrix(bert['stat'], bert['stat_p'],)\n",
        "fig, ax = plt.subplots(figsize=(8,8))\n",
        "sns.heatmap(conf_mat, annot=True, cmap=\"Blues\", fmt='d',\n",
        "            xticklabels=stat_id.values, \n",
        "            yticklabels=stat_id.values)\n",
        "plt.ylabel('Actual')\n",
        "plt.xlabel('Predicted')\n",
        "plt.title(\"CONFUSION MATRIX - LinearSVC\\n Statistics Articles\", size=16);\n",
        "\n",
        "conf_mat = confusion_matrix(bert['qb'], bert['qb_p'],)\n",
        "fig, ax = plt.subplots(figsize=(8,8))\n",
        "sns.heatmap(conf_mat, annot=True, cmap=\"Blues\", fmt='d',\n",
        "            xticklabels=qb_id.values, \n",
        "            yticklabels=qb_id.values)\n",
        "plt.ylabel('Actual')\n",
        "plt.xlabel('Predicted')\n",
        "plt.title(\"CONFUSION MATRIX - LinearSVC\\n Quantitative Biology Articles\", size=16);\n",
        "\n",
        "conf_mat = confusion_matrix(bert['qf'], bert['qf_p'],)\n",
        "fig, ax = plt.subplots(figsize=(8,8))\n",
        "sns.heatmap(conf_mat, annot=True, cmap=\"Blues\", fmt='d',\n",
        "            xticklabels=qf_id.values, \n",
        "            yticklabels=qf_id.values)\n",
        "plt.ylabel('Actual')\n",
        "plt.xlabel('Predicted')\n",
        "plt.title(\"CONFUSION MATRIX - LinearSVC\\n Quantitative Finance Articles\", size=16);"
      ],
      "execution_count": null,
      "outputs": []
    },
    {
      "cell_type": "markdown",
      "metadata": {
        "id": "RqmZ9BrxyLgd"
      },
      "source": [
        "#Text Classification for all labels"
      ]
    },
    {
      "cell_type": "code",
      "metadata": {
        "id": "LAGlMCzkyOnK"
      },
      "source": [
        "def tfid_vectorizer(label):\n",
        "  X = train[\"text\"].tolist()\n",
        "  y = train[label].tolist()\n",
        "\n",
        "  tfidf = TfidfVectorizer(sublinear_tf=True, min_df=5, stop_words='english')\n",
        "  #We transform each text into a vector\n",
        "  features = tfidf.fit_transform(X).toarray()\n",
        "  labels = y\n",
        "\n",
        "  print(\"Each of the %d article entries is represented by %d features (TF-IDF score of unigrams and bigrams)\" %(features.shape))\n",
        "  return features, labels"
      ],
      "execution_count": null,
      "outputs": []
    },
    {
      "cell_type": "code",
      "metadata": {
        "id": "hWhSL0pvyTlA",
        "outputId": "20d176eb-9c15-40bd-db6a-cd2b59c1e355",
        "colab": {
          "base_uri": "https://localhost:8080/"
        }
      },
      "source": [
        "features,labels_CS=tfid_vectorizer('Computer Science')\n",
        "features,labels_PH=tfid_vectorizer('Physics')\n",
        "features,labels_MAT=tfid_vectorizer('Mathematics')\n",
        "features,labels_STAT=tfid_vectorizer('Statistics')\n",
        "features,labels_QB=tfid_vectorizer('Quantitative Biology')\n",
        "features,labels_QF=tfid_vectorizer('Quantitative Finance')"
      ],
      "execution_count": null,
      "outputs": [
        {
          "output_type": "stream",
          "text": [
            "Each of the 20972 article entries is represented by 11197 features (TF-IDF score of unigrams and bigrams)\n",
            "Each of the 20972 article entries is represented by 11197 features (TF-IDF score of unigrams and bigrams)\n",
            "Each of the 20972 article entries is represented by 11197 features (TF-IDF score of unigrams and bigrams)\n",
            "Each of the 20972 article entries is represented by 11197 features (TF-IDF score of unigrams and bigrams)\n",
            "Each of the 20972 article entries is represented by 11197 features (TF-IDF score of unigrams and bigrams)\n",
            "Each of the 20972 article entries is represented by 11197 features (TF-IDF score of unigrams and bigrams)\n"
          ],
          "name": "stdout"
        }
      ]
    },
    {
      "cell_type": "code",
      "metadata": {
        "id": "89M49IJDzBQ3"
      },
      "source": [
        "for index in range(6):\n",
        "  if index==0:\n",
        "    X_train, X_test, y_train, y_test_CS = train_test_split(features, labels_CS, test_size=0.20, random_state=1)\n",
        "    model_CS =   LinearSVC()\n",
        "    model_CS.fit(X_train, y_train)\n",
        "    y_pred_CS = model_CS.predict(X_test)\n",
        "  elif index==1:\n",
        "    X_train, X_test, y_train, y_test_PH = train_test_split(features, labels_PH, test_size=0.20, random_state=1)\n",
        "    model_PH =   LinearSVC()\n",
        "    model_PH.fit(X_train, y_train)\n",
        "    y_pred_PH = model_PH.predict(X_test)\n",
        "  elif index==2:\n",
        "    X_train, X_test, y_train, y_test_MAT = train_test_split(features, labels_MAT, test_size=0.20, random_state=1)\n",
        "    model_MAT =   LinearSVC()\n",
        "    model_MAT.fit(X_train, y_train)\n",
        "    y_pred_MAT = model_MAT.predict(X_test)\n",
        "  elif index==3:\n",
        "    X_train, X_test, y_train, y_test_STAT = train_test_split(features, labels_STAT, test_size=0.20, random_state=1)\n",
        "    model_STAT =   LinearSVC()\n",
        "    model_STAT.fit(X_train, y_train)\n",
        "    y_pred_STAT = model_STAT.predict(X_test)\n",
        "  elif index==4:\n",
        "    X_train, X_test, y_train, y_test_QB = train_test_split(features, labels_QB, test_size=0.20, random_state=1)\n",
        "    model_QB =   LinearSVC()\n",
        "    model_QB.fit(X_train, y_train)\n",
        "    y_pred_QB = model_QB.predict(X_test)\n",
        "  elif index==5:\n",
        "    X_train, X_test, y_train, y_test_QF = train_test_split(features, labels_QF, test_size=0.20, random_state=1)\n",
        "    model_QF =   LinearSVC()\n",
        "    model_QF.fit(X_train, y_train)\n",
        "    y_pred_QF = model_QF.predict(X_test)"
      ],
      "execution_count": null,
      "outputs": []
    },
    {
      "cell_type": "code",
      "metadata": {
        "id": "pHMBucVmwH6-"
      },
      "source": [
        "train['Computer Science Labels']=train['Computer Science'].astype('str')\n",
        "train['Physics Labels']=train['Physics'].astype('str')\n",
        "train['Mathematics Labels']=train['Mathematics'].astype('str')\n",
        "train['Statistics Labels']=train['Statistics'].astype('str')\n",
        "train['Quantitative Biology Labels']=train['Quantitative Biology'].astype('str')\n",
        "train['Quantitative Finance Labels']=train['Quantitative Finance'].astype('str')"
      ],
      "execution_count": null,
      "outputs": []
    },
    {
      "cell_type": "code",
      "metadata": {
        "id": "asT4OWH-1AaA",
        "outputId": "c15c8500-2464-4e6c-bda8-db523265e841",
        "colab": {
          "base_uri": "https://localhost:8080/"
        }
      },
      "source": [
        "for index in range(6):\n",
        "  if index==0:\n",
        "    print('\\t\\t\\t\\tCLASSIFICATIION METRICS CS\\n')\n",
        "    print(metrics.classification_report(y_test_CS, y_pred_CS, \n",
        "                                      target_names= train['Computer Science Labels'].unique()))\n",
        "  elif index==1:\n",
        "    print('\\t\\t\\t\\tCLASSIFICATIION METRICS PH\\n')\n",
        "    print(metrics.classification_report(y_test_PH, y_pred_PH, \n",
        "                                      target_names= train['Physics Labels'].unique()))\n",
        "  elif index==2:\n",
        "    print('\\t\\t\\t\\tCLASSIFICATIION METRICS MAT\\n')\n",
        "    print(metrics.classification_report(y_test_MAT, y_pred_MAT, \n",
        "                                      target_names= train['Mathematics Labels'].unique()))\n",
        "  elif index==3:\n",
        "    print('\\t\\t\\t\\tCLASSIFICATIION METRICS STAT\\n')\n",
        "    print(metrics.classification_report(y_test_STAT, y_pred_STAT, \n",
        "                                      target_names= train['Statistics Labels'].unique()))\n",
        "  elif index==4:\n",
        "    print('\\t\\t\\t\\tCLASSIFICATIION METRICS QB\\n')\n",
        "    print(metrics.classification_report(y_test_QB, y_pred_QB, \n",
        "                                      target_names= train['Quantitative Biology Labels'].unique()))\n",
        "  elif index==5:\n",
        "    print('\\t\\t\\t\\tCLASSIFICATIION METRICS QF\\n')\n",
        "    print(metrics.classification_report(y_test_QF, y_pred_QF, \n",
        "                                      target_names= train['Quantitative Finance Labels'].unique()))"
      ],
      "execution_count": null,
      "outputs": [
        {
          "output_type": "stream",
          "text": [
            "\t\t\t\tCLASSIFICATIION METRICS CS\n",
            "\n",
            "              precision    recall  f1-score   support\n",
            "\n",
            "           1       0.88      0.87      0.88      2502\n",
            "           0       0.81      0.83      0.82      1693\n",
            "\n",
            "    accuracy                           0.85      4195\n",
            "   macro avg       0.85      0.85      0.85      4195\n",
            "weighted avg       0.85      0.85      0.85      4195\n",
            "\n",
            "\t\t\t\tCLASSIFICATIION METRICS PH\n",
            "\n",
            "              precision    recall  f1-score   support\n",
            "\n",
            "           0       0.94      0.97      0.95      2986\n",
            "           1       0.91      0.84      0.88      1209\n",
            "\n",
            "    accuracy                           0.93      4195\n",
            "   macro avg       0.92      0.91      0.91      4195\n",
            "weighted avg       0.93      0.93      0.93      4195\n",
            "\n",
            "\t\t\t\tCLASSIFICATIION METRICS MAT\n",
            "\n",
            "              precision    recall  f1-score   support\n",
            "\n",
            "           0       0.92      0.94      0.93      3067\n",
            "           1       0.84      0.78      0.81      1128\n",
            "\n",
            "    accuracy                           0.90      4195\n",
            "   macro avg       0.88      0.86      0.87      4195\n",
            "weighted avg       0.90      0.90      0.90      4195\n",
            "\n",
            "\t\t\t\tCLASSIFICATIION METRICS STAT\n",
            "\n",
            "              precision    recall  f1-score   support\n",
            "\n",
            "           0       0.92      0.93      0.92      3188\n",
            "           1       0.76      0.73      0.74      1007\n",
            "\n",
            "    accuracy                           0.88      4195\n",
            "   macro avg       0.84      0.83      0.83      4195\n",
            "weighted avg       0.88      0.88      0.88      4195\n",
            "\n",
            "\t\t\t\tCLASSIFICATIION METRICS QB\n",
            "\n",
            "              precision    recall  f1-score   support\n",
            "\n",
            "           0       0.98      1.00      0.99      4072\n",
            "           1       0.65      0.30      0.41       123\n",
            "\n",
            "    accuracy                           0.97      4195\n",
            "   macro avg       0.81      0.65      0.70      4195\n",
            "weighted avg       0.97      0.97      0.97      4195\n",
            "\n",
            "\t\t\t\tCLASSIFICATIION METRICS QF\n",
            "\n",
            "              precision    recall  f1-score   support\n",
            "\n",
            "           0       0.99      1.00      1.00      4141\n",
            "           1       0.85      0.41      0.55        54\n",
            "\n",
            "    accuracy                           0.99      4195\n",
            "   macro avg       0.92      0.70      0.77      4195\n",
            "weighted avg       0.99      0.99      0.99      4195\n",
            "\n"
          ],
          "name": "stdout"
        }
      ]
    },
    {
      "cell_type": "code",
      "metadata": {
        "id": "GuvvaxBHweCO"
      },
      "source": [
        "cs_id=train['Computer Science Labels'].drop_duplicates()\n",
        "ph_id=train['Physics Labels'].drop_duplicates()\n",
        "mat_id=train['Mathematics Labels'].drop_duplicates()\n",
        "stat_id=train['Statistics Labels'].drop_duplicates()\n",
        "qb_id=train['Quantitative Biology Labels'].drop_duplicates()\n",
        "qf_id=train['Quantitative Finance Labels'].drop_duplicates()"
      ],
      "execution_count": null,
      "outputs": []
    },
    {
      "cell_type": "code",
      "metadata": {
        "id": "75kfkfA2wlIG",
        "outputId": "8f5f225c-3f8c-4ada-8ad8-0ad010d1e930",
        "colab": {
          "base_uri": "https://localhost:8080/",
          "height": 1000
        }
      },
      "source": [
        "conf_mat = confusion_matrix(y_test_CS, y_pred_CS)\n",
        "fig, ax = plt.subplots(figsize=(8,8))\n",
        "sns.heatmap(conf_mat, annot=True, cmap=\"Blues\", fmt='d',\n",
        "            xticklabels=cs_id.values, \n",
        "            yticklabels=cs_id.values)\n",
        "plt.ylabel('Actual')\n",
        "plt.xlabel('Predicted')\n",
        "plt.title(\"CONFUSION MATRIX - LinearSVC\\n Computer Science Articles\", size=16);\n",
        "\n",
        "conf_mat = confusion_matrix(y_test_PH, y_pred_PH)\n",
        "fig, ax = plt.subplots(figsize=(8,8))\n",
        "sns.heatmap(conf_mat, annot=True, cmap=\"Blues\", fmt='d',\n",
        "            xticklabels=ph_id.values, \n",
        "            yticklabels=ph_id.values)\n",
        "plt.ylabel('Actual')\n",
        "plt.xlabel('Predicted')\n",
        "plt.title(\"CONFUSION MATRIX - LinearSVC\\n Physics Articles\", size=16);\n",
        "\n",
        "conf_mat = confusion_matrix(y_test_MAT, y_pred_MAT)\n",
        "fig, ax = plt.subplots(figsize=(8,8))\n",
        "sns.heatmap(conf_mat, annot=True, cmap=\"Blues\", fmt='d',\n",
        "            xticklabels=mat_id.values, \n",
        "            yticklabels=mat_id.values)\n",
        "plt.ylabel('Actual')\n",
        "plt.xlabel('Predicted')\n",
        "plt.title(\"CONFUSION MATRIX - LinearSVC\\n Mathematics Articles\", size=16);\n",
        "\n",
        "conf_mat = confusion_matrix(y_test_STAT, y_pred_STAT)\n",
        "fig, ax = plt.subplots(figsize=(8,8))\n",
        "sns.heatmap(conf_mat, annot=True, cmap=\"Blues\", fmt='d',\n",
        "            xticklabels=stat_id.values, \n",
        "            yticklabels=stat_id.values)\n",
        "plt.ylabel('Actual')\n",
        "plt.xlabel('Predicted')\n",
        "plt.title(\"CONFUSION MATRIX - LinearSVC\\n Statistics Articles\", size=16);\n",
        "\n",
        "conf_mat = confusion_matrix(y_test_QB, y_pred_QB)\n",
        "fig, ax = plt.subplots(figsize=(8,8))\n",
        "sns.heatmap(conf_mat, annot=True, cmap=\"Blues\", fmt='d',\n",
        "            xticklabels=qb_id.values, \n",
        "            yticklabels=qb_id.values)\n",
        "plt.ylabel('Actual')\n",
        "plt.xlabel('Predicted')\n",
        "plt.title(\"CONFUSION MATRIX - LinearSVC\\n Quantitative Biology Articles\", size=16);\n",
        "\n",
        "conf_mat = confusion_matrix(y_test_QF, y_pred_QF)\n",
        "fig, ax = plt.subplots(figsize=(8,8))\n",
        "sns.heatmap(conf_mat, annot=True, cmap=\"Blues\", fmt='d',\n",
        "            xticklabels=qf_id.values, \n",
        "            yticklabels=qf_id.values)\n",
        "plt.ylabel('Actual')\n",
        "plt.xlabel('Predicted')\n",
        "plt.title(\"CONFUSION MATRIX - LinearSVC\\n Quantitative Finance Articles\", size=16);"
      ],
      "execution_count": null,
      "outputs": [
        {
          "output_type": "display_data",
          "data": {
            "image/png": "[encoded data removed]",
            "text/plain": [
              "<Figure size 576x576 with 2 Axes>"
            ]
          },
          "metadata": {
            "tags": []
          }
        },
        {
          "output_type": "display_data",
          "data": {
            "image/png": "[encoded data removed]",
            "text/plain": [
              "<Figure size 576x576 with 2 Axes>"
            ]
          },
          "metadata": {
            "tags": []
          }
        },
        {
          "output_type": "display_data",
          "data": {
            "image/png": "[encoded data removed]",
            "text/plain": [
              "<Figure size 576x576 with 2 Axes>"
            ]
          },
          "metadata": {
            "tags": []
          }
        },
        {
          "output_type": "display_data",
          "data": {
            "image/png": "[encoded data removed]",
            "text/plain": [
              "<Figure size 576x576 with 2 Axes>"
            ]
          },
          "metadata": {
            "tags": []
          }
        },
        {
          "output_type": "display_data",
          "data": {
            "image/png": "[encoded data removed]",
            "text/plain": [
              "<Figure size 576x576 with 2 Axes>"
            ]
          },
          "metadata": {
            "tags": []
          }
        },
        {
          "output_type": "display_data",
          "data": {
            "image/png": "[encoded data removed]",
            "text/plain": [
              "<Figure size 576x576 with 2 Axes>"
            ]
          },
          "metadata": {
            "tags": []
          }
        }
      ]
    },
    {
      "cell_type": "markdown",
      "metadata": {
        "id": "wVRbzDkD3MuD"
      },
      "source": [
        "#Predict classification of test data"
      ]
    },
    {
      "cell_type": "code",
      "metadata": {
        "id": "Sa3gpcgP3QVL"
      },
      "source": [
        "test['text']=test.TITLE+test.ABSTRACT"
      ],
      "execution_count": null,
      "outputs": []
    },
    {
      "cell_type": "code",
      "metadata": {
        "id": "c3pydP8-3n3V"
      },
      "source": [
        "#lower case\n",
        "def lower(text):\n",
        "    low_text= text.lower()\n",
        "    return low_text\n",
        "test['text']=test['text'].apply(lambda x:lower(x))\n",
        "\n",
        "#Remove extra white space left while removing stuff\n",
        "def remove_space(text):\n",
        "    space_remove = re.sub(r\"\\s+\",\" \",text).strip()\n",
        "    return space_remove\n",
        "test['text']=test['text'].apply(lambda x:remove_space(x))"
      ],
      "execution_count": null,
      "outputs": []
    },
    {
      "cell_type": "code",
      "metadata": {
        "id": "tQV4fu4V3qyr"
      },
      "source": [
        "def remove_stop_punct():\n",
        "  tokens_all=[]\n",
        "  for text in test['text']:\n",
        "    my_doc = nlp(text)\n",
        "    # Create list of word tokens\n",
        "    spacy_tokens = [token.lemma_ for token in my_doc if token.is_stop != True and token.is_punct != True and token.is_alpha ==True]\n",
        "    tokens_all.append(spacy_tokens)\n",
        "  test['text']=tokens_all\n",
        "\n",
        "remove_stop_punct()\n",
        "test['text']=test['text'].str.join(',')"
      ],
      "execution_count": null,
      "outputs": []
    },
    {
      "cell_type": "code",
      "metadata": {
        "id": "VliSz-pb3tQj"
      },
      "source": [
        "test['text']=test['text'].str.replace(',', ' ')"
      ],
      "execution_count": null,
      "outputs": []
    },
    {
      "cell_type": "code",
      "metadata": {
        "id": "t28h8Sdt3teT"
      },
      "source": [
        "test.to_csv('./token_test.csv')"
      ],
      "execution_count": null,
      "outputs": []
    },
    {
      "cell_type": "code",
      "metadata": {
        "id": "BT9SbKR55kgS"
      },
      "source": [
        "def tfid_vectorizer_pred():\n",
        "  X = test[\"text\"].tolist()\n",
        "\n",
        "  tfidf = TfidfVectorizer(sublinear_tf=True, min_df=5, stop_words='english')\n",
        "  #We transform each text into a vector\n",
        "  features = tfidf.fit_transform(X).toarray()\n",
        "\n",
        "  print(\"Each of the %d article entries is represented by %d features (TF-IDF score of unigrams and bigrams)\" %(features.shape))\n",
        "  return features\n"
      ],
      "execution_count": null,
      "outputs": []
    },
    {
      "cell_type": "code",
      "metadata": {
        "id": "T-JmEA9m60hK",
        "outputId": "3c6bc8fd-2964-4444-f9e5-8a840c0470ca",
        "colab": {
          "base_uri": "https://localhost:8080/"
        }
      },
      "source": [
        "X_features=tfid_vectorizer_pred()\n",
        "X_features.resize((8989,11197))"
      ],
      "execution_count": null,
      "outputs": [
        {
          "output_type": "stream",
          "text": [
            "Each of the 8989 article entries is represented by 7286 features (TF-IDF score of unigrams and bigrams)\n"
          ],
          "name": "stdout"
        }
      ]
    },
    {
      "cell_type": "code",
      "metadata": {
        "id": "0kPjgK7h53AK"
      },
      "source": [
        "for index in range(6):\n",
        "  if index==0:\n",
        "    y_pred_CS_t = model_CS.predict(X_features)\n",
        "  elif index==1:\n",
        "    y_pred_PH_t = model_PH.predict(X_features)\n",
        "  elif index==2:\n",
        "    y_pred_MAT_t = model_MAT.predict(X_features)\n",
        "  elif index==3:\n",
        "    y_pred_STAT_t = model_STAT.predict(X_features)\n",
        "  elif index==4:\n",
        "    y_pred_QB_t = model_QB.predict(X_features)\n",
        "  elif index==5:\n",
        "    y_pred_QF_t = model_QF.predict(X_features)"
      ],
      "execution_count": null,
      "outputs": []
    },
    {
      "cell_type": "code",
      "metadata": {
        "id": "KFvcW_CV9bDS"
      },
      "source": [
        "test['CS pred']=y_pred_CS_t\n",
        "test['PH pred']=y_pred_PH_t\n",
        "test['MAT pred']=y_pred_MAT_t\n",
        "test['STAT pred']=y_pred_STAT_t\n",
        "test['QB pred']=y_pred_QB_t\n",
        "test['QF pred']=y_pred_QF_t"
      ],
      "execution_count": null,
      "outputs": []
    }
  ]
}
